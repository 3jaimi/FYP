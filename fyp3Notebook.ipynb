{
  "cells": [
    {
      "cell_type": "markdown",
      "metadata": {
        "id": "cm_iMt30_xMI"
      },
      "source": [
        "# access token\n",
        "\n"
      ]
    },
    {
      "cell_type": "markdown",
      "metadata": {
        "id": "bclJQdUc_TYO"
      },
      "source": [
        "{\"access_token\":\"eyJ0eXAiOiJKV1QiLCJub25jZSI6ImhBYm9ROW1scW4tdlowbWNSWVNld1NMRTBLTUo5eG5lMmZuYVJqMkVjcWsiLCJhbGciOiJSUzI1NiIsIng1dCI6InEtMjNmYWxldlpoaEQzaG05Q1Fia1A1TVF5VSIsImtpZCI6InEtMjNmYWxldlpoaEQzaG05Q1Fia1A1TVF5VSJ9.eyJhdWQiOiIwMDAwMDAwMy0wMDAwLTAwMDAtYzAwMC0wMDAwMDAwMDAwMDAiLCJpc3MiOiJodHRwczovL3N0cy53aW5kb3dzLm5ldC9mZGVlZDllMS01NWFlLTQ5ZWMtYWNhMi05NjdhNTM0NWM1YWMvIiwiaWF0IjoxNzE0MDg1MDY4LCJuYmYiOjE3MTQwODUwNjgsImV4cCI6MTcxNDA5MDQ5NywiYWNjdCI6MCwiYWNyIjoiMSIsImFpbyI6IkFUUUF5LzhXQUFBQWFlcitxSTN4NkhLb0VGazVydGxmTExNelI0S1BWSUdFTUZmZ3ozSFZkN21HMEFsMlBOTnRwTFFOcjRmNGhRME4iLCJhbXIiOlsicHdkIl0sImFwcF9kaXNwbGF5bmFtZSI6InJjbG9uZSIsImFwcGlkIjoiYjE1NjY1ZDktZWRhNi00MDkyLTg1MzktMGVlYzM3NmFmZDU5IiwiYXBwaWRhY3IiOiIxIiwiZmFtaWx5X25hbWUiOiJBbG9qYWltaSIsImdpdmVuX25hbWUiOiJBbGkiLCJpZHR5cCI6InVzZXIiLCJpcGFkZHIiOiIyMDAxOjFhNDA6MTIxNjpiZjAwOjYxYTY6NTRiMjo0NzA0OjUzNmUiLCJuYW1lIjoiQWxpIEFsb2phaW1pIiwib2lkIjoiODhmMDFiNWItODE1ZS00Zjc4LTkxOWMtMTBlYWIxMTU3Mjc4IiwicGxhdGYiOiIzIiwicHVpZCI6IjEwMDMyMDAwRTFEREMyNjgiLCJyaCI6IjAuQVM4QTRkbnVfYTVWN0Vtc29wWjZVMFhGckFNQUFBQUFBQUFBd0FBQUFBQUFBQUF2QUhnLiIsInNjcCI6IkZpbGVzLlJlYWQgRmlsZXMuUmVhZC5BbGwgRmlsZXMuUmVhZFdyaXRlIEZpbGVzLlJlYWRXcml0ZS5BbGwgU2l0ZXMuUmVhZC5BbGwgcHJvZmlsZSBvcGVuaWQgZW1haWwiLCJzaWduaW5fc3RhdGUiOlsia21zaSJdLCJzdWIiOiJOLUhUelBmTV9pQkptRXBlQ2tyUlE0Y0xCZGhUSlowSWU0OWRyUFptcUVBIiwidGVuYW50X3JlZ2lvbl9zY29wZSI6IkVVIiwidGlkIjoiZmRlZWQ5ZTEtNTVhZS00OWVjLWFjYTItOTY3YTUzNDVjNWFjIiwidW5pcXVlX25hbWUiOiJhLmFsb2phaW1pQGJ1Yi5lZHUuYmgiLCJ1cG4iOiJhLmFsb2phaW1pQGJ1Yi5lZHUuYmgiLCJ1dGkiOiJhYThUN1NQeHhFbUJjODRnYXhxS0FBIiwidmVyIjoiMS4wIiwid2lkcyI6WyJiNzlmYmY0ZC0zZWY5LTQ2ODktODE0My03NmIxOTRlODU1MDkiXSwieG1zX3N0Ijp7InN1YiI6InowSDg5TFBEUVZYQzVia3luSTdIbXp0aFVORDF6U3gzdElZcG4weEpxTHMifSwieG1zX3RjZHQiOjE1MzczNjkwNDV9.-xjjA2Wua4HvHR0YtRXy6tsgBZPGmVOAUKgXtkHMWzcQNvJBrfYgU5nBsonzdNazWKjjEu4d8jj-CvrSnJjasSW5BQnAcwqqVOboUZOjzru5IwZlzjjYnrDjf0_lT-ZX3nhSo2u1uhwKkd6f_zTWsNnMLFNcmbf40aiX3EhAZJErqY-Pmmz6Np4GQrKC7PofO38cUg7TEaGE30AiYtk18T9SEGrCk_XmrS4kB04HKhs61l1tAvlwZ7bhS2mpm0brYlTHnR4n9gT1afYUH_Nxq-65KoUcgPVGFOWFRH15IgqCOblgqtAvOjMogZIDX8zzM_JSB0Y_s_XShOhLXFMpYA\",\"token_type\":\"Bearer\",\"refresh_token\":\"0.AS8A4dnu_a5V7EmsopZ6U0XFrNllVrGm7ZJAhTkO7Ddq_VkvAHg.AgABAwEAAADnfolhJpSnRYB1SVj-Hgd8AgDs_wUA9P_0ZM5qzPAoKZQkleqX7nY-r6Yni1o-qlp1JjCnEZgiHSOiJIOb3JJ6XXpAzuBOAkoheVEBInCvVS0iXHN8CtJ0VJ3SwDCtFYfdp-k8pSPzNlIu6n0DX6NMsWqjPczukclglF1_xHGbcIsGqq-8KfVA_JlktKCXqqIYzZbcV3iglhfGCi_aCyM4Ienb2rEkRGu8Xt9VMk7gsRlQQ2AqQKG-9tZy5yHpy1Tzp8GZ8JHRHC2HujyUjyo1E8sEaxfRubujMsMXjv8O-75XDqkI0vN6rDbijtPHPJxMgllx7YnHt8vACK28TMc4V7IqHuDVuzHceAMmWySAS0iVa1_QOVIpG3JWHEO7JWGIhABOjt3qPtciSUbo_nE3XvQY30Ho78m41e8L-AjkkV7bRVUhLJufBLbL1-0UX7cSGWWiOAJ0kp3jbI-JT7RfWi5-p63UKS6__jdHan5rrMaEnvLdwvk3mflVI_PVTl6qEHGfnXZQisQ1At4Vx5ToVHfb9fcljxINF58DdBBWXHfIbNFLIuxnVQzFMSIDguuBx0fh-aHRDDzMzKGqmvr3pqck2QCvMGFnQkAfR5d3bsG-sGeC3Rzjio1Q7jTSjOBCtrFH3NJZia5VARDLfCdNXQbtG7jfRUA5v3BTXCXrQzc2zwk9DWWWBlGSYNNqUusEr-pZ7sfUHnM2jSD51Uu8A21SlOAyk9cRQK_tg-wFXbzUcoBDLzmsIpAJWbnD0ynjHwtzs3jnM33oFXYEJCV-Y1kKJK2FedenNWI\",\"expiry\":\"2024-04-26T03:14:51.5322322+03:00\"}"
      ]
    },
    {
      "cell_type": "markdown",
      "metadata": {
        "id": "MNMdoGr75_LO"
      },
      "source": [
        "# 1. Mounting OneDrive & Activating Conda"
      ]
    },
    {
      "cell_type": "code",
      "source": [
        "from google.colab import drive\n",
        "drive.mount('/content/drive')"
      ],
      "metadata": {
        "colab": {
          "base_uri": "https://localhost:8080/"
        },
        "id": "TsJXFRYnQPLB",
        "outputId": "06c78163-47f5-4bb0-f680-0a77fbda2c2b"
      },
      "execution_count": 1,
      "outputs": [
        {
          "output_type": "stream",
          "name": "stdout",
          "text": [
            "Mounted at /content/drive\n"
          ]
        }
      ]
    },
    {
      "cell_type": "code",
      "execution_count": 2,
      "metadata": {
        "colab": {
          "base_uri": "https://localhost:8080/"
        },
        "id": "c6C7btMHf92I",
        "outputId": "215497c5-2ec3-41d2-d348-a3254344cb63"
      },
      "outputs": [
        {
          "output_type": "stream",
          "name": "stdout",
          "text": [
            "--2024-04-29 19:13:37--  https://downloads.rclone.org/v1.65.2/rclone-v1.65.2-linux-amd64.deb\n",
            "Resolving downloads.rclone.org (downloads.rclone.org)... 95.217.6.16, 2a01:4f9:c012:7154::1\n",
            "Connecting to downloads.rclone.org (downloads.rclone.org)|95.217.6.16|:443... connected.\n",
            "HTTP request sent, awaiting response... 200 OK\n",
            "Length: 20794190 (20M) [application/vnd.debian.binary-package]\n",
            "Saving to: ‘rclone-v1.65.2-linux-amd64.deb’\n",
            "\n",
            "rclone-v1.65.2-linu 100%[===================>]  19.83M  12.5MB/s    in 1.6s    \n",
            "\n",
            "2024-04-29 19:13:39 (12.5 MB/s) - ‘rclone-v1.65.2-linux-amd64.deb’ saved [20794190/20794190]\n",
            "\n",
            "Reading package lists... Done\n",
            "Building dependency tree... Done\n",
            "Reading state information... Done\n",
            "Note, selecting 'rclone' instead of './rclone-v1.65.2-linux-amd64.deb'\n",
            "The following NEW packages will be installed:\n",
            "  rclone\n",
            "0 upgraded, 1 newly installed, 0 to remove and 45 not upgraded.\n",
            "Need to get 0 B/20.8 MB of archives.\n",
            "After this operation, 64.8 MB of additional disk space will be used.\n",
            "Get:1 /content/rclone-v1.65.2-linux-amd64.deb rclone amd64 1.65.2 [20.8 MB]\n",
            "Selecting previously unselected package rclone.\n",
            "(Reading database ... 121752 files and directories currently installed.)\n",
            "Preparing to unpack .../rclone-v1.65.2-linux-amd64.deb ...\n",
            "Unpacking rclone (1.65.2) ...\n",
            "Setting up rclone (1.65.2) ...\n",
            "Processing triggers for man-db (2.10.2-1) ...\n",
            "2024/04/29 19:13:45 NOTICE: Config file \"/root/.config/rclone/rclone.conf\" not found - using defaults\n",
            "No remotes found, make a new one?\n",
            "n) New remote\n",
            "s) Set configuration password\n",
            "q) Quit config\n",
            "n/s/q> n\n",
            "\n",
            "Enter name for new remote.\n",
            "name> onedrive\n",
            "\n",
            "Option Storage.\n",
            "Type of storage to configure.\n",
            "Choose a number from below, or type in your own value.\n",
            "\u001b[91m 1 / 1Fichier\n",
            "   \\ (fichier)\n",
            "\u001b[0m\u001b[92m 2 / Akamai NetStorage\n",
            "   \\ (netstorage)\n",
            "\u001b[0m\u001b[91m 3 / Alias for an existing remote\n",
            "   \\ (alias)\n",
            "\u001b[0m\u001b[92m 4 / Amazon Drive\n",
            "   \\ (amazon cloud drive)\n",
            "\u001b[0m\u001b[91m 5 / Amazon S3 Compliant Storage Providers including AWS, Alibaba, ArvanCloud, Ceph, ChinaMobile, Cloudflare, DigitalOcean, Dreamhost, GCS, HuaweiOBS, IBMCOS, IDrive, IONOS, LyveCloud, Leviia, Liara, Linode, Minio, Netease, Petabox, RackCorp, Rclone, Scaleway, SeaweedFS, StackPath, Storj, Synology, TencentCOS, Wasabi, Qiniu and others\n",
            "   \\ (s3)\n",
            "\u001b[0m\u001b[92m 6 / Backblaze B2\n",
            "   \\ (b2)\n",
            "\u001b[0m\u001b[91m 7 / Better checksums for other remotes\n",
            "   \\ (hasher)\n",
            "\u001b[0m\u001b[92m 8 / Box\n",
            "   \\ (box)\n",
            "\u001b[0m\u001b[91m 9 / Cache a remote\n",
            "   \\ (cache)\n",
            "\u001b[0m\u001b[92m10 / Citrix Sharefile\n",
            "   \\ (sharefile)\n",
            "\u001b[0m\u001b[91m11 / Combine several remotes into one\n",
            "   \\ (combine)\n",
            "\u001b[0m\u001b[92m12 / Compress a remote\n",
            "   \\ (compress)\n",
            "\u001b[0m\u001b[91m13 / Dropbox\n",
            "   \\ (dropbox)\n",
            "\u001b[0m\u001b[92m14 / Encrypt/Decrypt a remote\n",
            "   \\ (crypt)\n",
            "\u001b[0m\u001b[91m15 / Enterprise File Fabric\n",
            "   \\ (filefabric)\n",
            "\u001b[0m\u001b[92m16 / FTP\n",
            "   \\ (ftp)\n",
            "\u001b[0m\u001b[91m17 / Google Cloud Storage (this is not Google Drive)\n",
            "   \\ (google cloud storage)\n",
            "\u001b[0m\u001b[92m18 / Google Drive\n",
            "   \\ (drive)\n",
            "\u001b[0m\u001b[91m19 / Google Photos\n",
            "   \\ (google photos)\n",
            "\u001b[0m\u001b[92m20 / HTTP\n",
            "   \\ (http)\n",
            "\u001b[0m\u001b[91m21 / Hadoop distributed file system\n",
            "   \\ (hdfs)\n",
            "\u001b[0m\u001b[92m22 / HiDrive\n",
            "   \\ (hidrive)\n",
            "\u001b[0m\u001b[91m23 / ImageKit.io\n",
            "   \\ (imagekit)\n",
            "\u001b[0m\u001b[92m24 / In memory object storage system.\n",
            "   \\ (memory)\n",
            "\u001b[0m\u001b[91m25 / Internet Archive\n",
            "   \\ (internetarchive)\n",
            "\u001b[0m\u001b[92m26 / Jottacloud\n",
            "   \\ (jottacloud)\n",
            "\u001b[0m\u001b[91m27 / Koofr, Digi Storage and other Koofr-compatible storage providers\n",
            "   \\ (koofr)\n",
            "\u001b[0m\u001b[92m28 / Linkbox\n",
            "   \\ (linkbox)\n",
            "\u001b[0m\u001b[91m29 / Local Disk\n",
            "   \\ (local)\n",
            "\u001b[0m\u001b[92m30 / Mail.ru Cloud\n",
            "   \\ (mailru)\n",
            "\u001b[0m\u001b[91m31 / Mega\n",
            "   \\ (mega)\n",
            "\u001b[0m\u001b[92m32 / Microsoft Azure Blob Storage\n",
            "   \\ (azureblob)\n",
            "\u001b[0m\u001b[91m33 / Microsoft Azure Files\n",
            "   \\ (azurefiles)\n",
            "\u001b[0m\u001b[92m34 / Microsoft OneDrive\n",
            "   \\ (onedrive)\n",
            "\u001b[0m\u001b[91m35 / OpenDrive\n",
            "   \\ (opendrive)\n",
            "\u001b[0m\u001b[92m36 / OpenStack Swift (Rackspace Cloud Files, Blomp Cloud Storage, Memset Memstore, OVH)\n",
            "   \\ (swift)\n",
            "\u001b[0m\u001b[91m37 / Oracle Cloud Infrastructure Object Storage\n",
            "   \\ (oracleobjectstorage)\n",
            "\u001b[0m\u001b[92m38 / Pcloud\n",
            "   \\ (pcloud)\n",
            "\u001b[0m\u001b[91m39 / PikPak\n",
            "   \\ (pikpak)\n",
            "\u001b[0m\u001b[92m40 / Proton Drive\n",
            "   \\ (protondrive)\n",
            "\u001b[0m\u001b[91m41 / Put.io\n",
            "   \\ (putio)\n",
            "\u001b[0m\u001b[92m42 / QingCloud Object Storage\n",
            "   \\ (qingstor)\n",
            "\u001b[0m\u001b[91m43 / Quatrix by Maytech\n",
            "   \\ (quatrix)\n",
            "\u001b[0m\u001b[92m44 / SMB / CIFS\n",
            "   \\ (smb)\n",
            "\u001b[0m\u001b[91m45 / SSH/SFTP\n",
            "   \\ (sftp)\n",
            "\u001b[0m\u001b[92m46 / Sia Decentralized Cloud\n",
            "   \\ (sia)\n",
            "\u001b[0m\u001b[91m47 / Storj Decentralized Cloud Storage\n",
            "   \\ (storj)\n",
            "\u001b[0m\u001b[92m48 / Sugarsync\n",
            "   \\ (sugarsync)\n",
            "\u001b[0m\u001b[91m49 / Transparently chunk/split large files\n",
            "   \\ (chunker)\n",
            "\u001b[0m\u001b[92m50 / Union merges the contents of several upstream fs\n",
            "   \\ (union)\n",
            "\u001b[0m\u001b[91m51 / Uptobox\n",
            "   \\ (uptobox)\n",
            "\u001b[0m\u001b[92m52 / WebDAV\n",
            "   \\ (webdav)\n",
            "\u001b[0m\u001b[91m53 / Yandex Disk\n",
            "   \\ (yandex)\n",
            "\u001b[0m\u001b[92m54 / Zoho\n",
            "   \\ (zoho)\n",
            "\u001b[0m\u001b[91m55 / premiumize.me\n",
            "   \\ (premiumizeme)\n",
            "\u001b[0m\u001b[92m56 / seafile\n",
            "   \\ (seafile)\n",
            "\u001b[0mStorage> 34\n",
            "\n",
            "Option client_id.\n",
            "OAuth Client Id.\n",
            "Leave blank normally.\n",
            "Enter a value. Press Enter to leave empty.\n",
            "client_id> \n",
            "\n",
            "Option client_secret.\n",
            "OAuth Client Secret.\n",
            "Leave blank normally.\n",
            "Enter a value. Press Enter to leave empty.\n",
            "client_secret> \n",
            "\n",
            "Option region.\n",
            "Choose national cloud region for OneDrive.\n",
            "Choose a number from below, or type in your own string value.\n",
            "Press Enter for the default (global).\n",
            "\u001b[91m 1 / Microsoft Cloud Global\n",
            "   \\ (global)\n",
            "\u001b[0m\u001b[92m 2 / Microsoft Cloud for US Government\n",
            "   \\ (us)\n",
            "\u001b[0m\u001b[91m 3 / Microsoft Cloud Germany\n",
            "   \\ (de)\n",
            "\u001b[0m\u001b[92m 4 / Azure and Office 365 operated by Vnet Group in China\n",
            "   \\ (cn)\n",
            "\u001b[0mregion> \n",
            "\n",
            "Edit advanced config?\n",
            "y) Yes\n",
            "n) No (default)\n",
            "y/n> \n",
            "\n",
            "Use web browser to automatically authenticate rclone with remote?\n",
            " * Say Y if the machine running rclone has a web browser you can use\n",
            " * Say N if running rclone on a (remote) machine without web browser access\n",
            "If not sure try Y. If Y failed, try N.\n",
            "\n",
            "y) Yes (default)\n",
            "n) No\n",
            "y/n> n\n",
            "\n",
            "Option config_token.\n",
            "For this to work, you will need rclone available on a machine that has\n",
            "a web browser available.\n",
            "For more help and alternate methods see: https://rclone.org/remote_setup/\n",
            "Execute the following on the machine with the web browser (same rclone\n",
            "version recommended):\n",
            "\trclone authorize \"onedrive\"\n",
            "Then paste the result.\n",
            "Enter a value.\n",
            "config_token> {\"access_token\":\"eyJ0eXAiOiJKV1QiLCJub25jZSI6ImhBYm9ROW1scW4tdlowbWNSWVNld1NMRTBLTUo5eG5lMmZuYVJqMkVjcWsiLCJhbGciOiJSUzI1NiIsIng1dCI6InEtMjNmYWxldlpoaEQzaG05Q1Fia1A1TVF5VSIsImtpZCI6InEtMjNmYWxldlpoaEQzaG05Q1Fia1A1TVF5VSJ9.eyJhdWQiOiIwMDAwMDAwMy0wMDAwLTAwMDAtYzAwMC0wMDAwMDAwMDAwMDAiLCJpc3MiOiJodHRwczovL3N0cy53aW5kb3dzLm5ldC9mZGVlZDllMS01NWFlLTQ5ZWMtYWNhMi05NjdhNTM0NWM1YWMvIiwiaWF0IjoxNzE0MDg1MDY4LCJuYmYiOjE3MTQwODUwNjgsImV4cCI6MTcxNDA5MDQ5NywiYWNjdCI6MCwiYWNyIjoiMSIsImFpbyI6IkFUUUF5LzhXQUFBQWFlcitxSTN4NkhLb0VGazVydGxmTExNelI0S1BWSUdFTUZmZ3ozSFZkN21HMEFsMlBOTnRwTFFOcjRmNGhRME4iLCJhbXIiOlsicHdkIl0sImFwcF9kaXNwbGF5bmFtZSI6InJjbG9uZSIsImFwcGlkIjoiYjE1NjY1ZDktZWRhNi00MDkyLTg1MzktMGVlYzM3NmFmZDU5IiwiYXBwaWRhY3IiOiIxIiwiZmFtaWx5X25hbWUiOiJBbG9qYWltaSIsImdpdmVuX25hbWUiOiJBbGkiLCJpZHR5cCI6InVzZXIiLCJpcGFkZHIiOiIyMDAxOjFhNDA6MTIxNjpiZjAwOjYxYTY6NTRiMjo0NzA0OjUzNmUiLCJuYW1lIjoiQWxpIEFsb2phaW1pIiwib2lkIjoiODhmMDFiNWItODE1ZS00Zjc4LTkxOWMtMTBlYWIxMTU3Mjc4IiwicGxhdGYiOiIzIiwicHVpZCI6IjEwMDMyMDAwRTFEREMyNjgiLCJyaCI6IjAuQVM4QTRkbnVfYTVWN0Vtc29wWjZVMFhGckFNQUFBQUFBQUFBd0FBQUFBQUFBQUF2QUhnLiIsInNjcCI6IkZpbGVzLlJlYWQgRmlsZXMuUmVhZC5BbGwgRmlsZXMuUmVhZFdyaXRlIEZpbGVzLlJlYWRXcml0ZS5BbGwgU2l0ZXMuUmVhZC5BbGwgcHJvZmlsZSBvcGVuaWQgZW1haWwiLCJzaWduaW5fc3RhdGUiOlsia21zaSJdLCJzdWIiOiJOLUhUelBmTV9pQkptRXBlQ2tyUlE0Y0xCZGhUSlowSWU0OWRyUFptcUVBIiwidGVuYW50X3JlZ2lvbl9zY29wZSI6IkVVIiwidGlkIjoiZmRlZWQ5ZTEtNTVhZS00OWVjLWFjYTItOTY3YTUzNDVjNWFjIiwidW5pcXVlX25hbWUiOiJhLmFsb2phaW1pQGJ1Yi5lZHUuYmgiLCJ1cG4iOiJhLmFsb2phaW1pQGJ1Yi5lZHUuYmgiLCJ1dGkiOiJhYThUN1NQeHhFbUJjODRnYXhxS0FBIiwidmVyIjoiMS4wIiwid2lkcyI6WyJiNzlmYmY0ZC0zZWY5LTQ2ODktODE0My03NmIxOTRlODU1MDkiXSwieG1zX3N0Ijp7InN1YiI6InowSDg5TFBEUVZYQzVia3luSTdIbXp0aFVORDF6U3gzdElZcG4weEpxTHMifSwieG1zX3RjZHQiOjE1MzczNjkwNDV9.-xjjA2Wua4HvHR0YtRXy6tsgBZPGmVOAUKgXtkHMWzcQNvJBrfYgU5nBsonzdNazWKjjEu4d8jj-CvrSnJjasSW5BQnAcwqqVOboUZOjzru5IwZlzjjYnrDjf0_lT-ZX3nhSo2u1uhwKkd6f_zTWsNnMLFNcmbf40aiX3EhAZJErqY-Pmmz6Np4GQrKC7PofO38cUg7TEaGE30AiYtk18T9SEGrCk_XmrS4kB04HKhs61l1tAvlwZ7bhS2mpm0brYlTHnR4n9gT1afYUH_Nxq-65KoUcgPVGFOWFRH15IgqCOblgqtAvOjMogZIDX8zzM_JSB0Y_s_XShOhLXFMpYA\",\"token_type\":\"Bearer\",\"refresh_token\":\"0.AS8A4dnu_a5V7EmsopZ6U0XFrNllVrGm7ZJAhTkO7Ddq_VkvAHg.AgABAwEAAADnfolhJpSnRYB1SVj-Hgd8AgDs_wUA9P_0ZM5qzPAoKZQkleqX7nY-r6Yni1o-qlp1JjCnEZgiHSOiJIOb3JJ6XXpAzuBOAkoheVEBInCvVS0iXHN8CtJ0VJ3SwDCtFYfdp-k8pSPzNlIu6n0DX6NMsWqjPczukclglF1_xHGbcIsGqq-8KfVA_JlktKCXqqIYzZbcV3iglhfGCi_aCyM4Ienb2rEkRGu8Xt9VMk7gsRlQQ2AqQKG-9tZy5yHpy1Tzp8GZ8JHRHC2HujyUjyo1E8sEaxfRubujMsMXjv8O-75XDqkI0vN6rDbijtPHPJxMgllx7YnHt8vACK28TMc4V7IqHuDVuzHceAMmWySAS0iVa1_QOVIpG3JWHEO7JWGIhABOjt3qPtciSUbo_nE3XvQY30Ho78m41e8L-AjkkV7bRVUhLJufBLbL1-0UX7cSGWWiOAJ0kp3jbI-JT7RfWi5-p63UKS6__jdHan5rrMaEnvLdwvk3mflVI_PVTl6qEHGfnXZQisQ1At4Vx5ToVHfb9fcljxINF58DdBBWXHfIbNFLIuxnVQzFMSIDguuBx0fh-aHRDDzMzKGqmvr3pqck2QCvMGFnQkAfR5d3bsG-sGeC3Rzjio1Q7jTSjOBCtrFH3NJZia5VARDLfCdNXQbtG7jfRUA5v3BTXCXrQzc2zwk9DWWWBlGSYNNqUusEr-pZ7sfUHnM2jSD51Uu8A21SlOAyk9cRQK_tg-wFXbzUcoBDLzmsIpAJWbnD0ynjHwtzs3jnM33oFXYEJCV-Y1kKJK2FedenNWI\",\"expiry\":\"2024-04-26T03:14:51.5322322+03:00\"}\n",
            "\n",
            "Option config_type.\n",
            "Type of connection\n",
            "Choose a number from below, or type in an existing string value.\n",
            "Press Enter for the default (onedrive).\n",
            "\u001b[91m 1 / OneDrive Personal or Business\n",
            "   \\ (onedrive)\n",
            "\u001b[0m\u001b[92m 2 / Root Sharepoint site\n",
            "   \\ (sharepoint)\n",
            "\u001b[0m\u001b[91m   / Sharepoint site name or URL\n",
            " 3 | E.g. mysite or https://contoso.sharepoint.com/sites/mysite\n",
            "   \\ (url)\n",
            "\u001b[0m\u001b[92m 4 / Search for a Sharepoint site\n",
            "   \\ (search)\n",
            "\u001b[0m\u001b[91m 5 / Type in driveID (advanced)\n",
            "   \\ (driveid)\n",
            "\u001b[0m\u001b[92m 6 / Type in SiteID (advanced)\n",
            "   \\ (siteid)\n",
            "\u001b[0m\u001b[91m   / Sharepoint server-relative path (advanced)\n",
            " 7 | E.g. /teams/hr\n",
            "   \\ (path)\n",
            "\u001b[0mconfig_type> \n",
            "\n",
            "Option config_driveid.\n",
            "Select drive you want to use\n",
            "Choose a number from below, or type in your own string value.\n",
            "Press Enter for the default (b!_ScqaF1-v0iZzmx4rZ3tMQdmO9s2u5xMk_O_lyxfsW2I3xMwOWZKS7w831UEjhR8).\n",
            "\u001b[91m 1 / OneDrive (business)\n",
            "   \\ (b!_ScqaF1-v0iZzmx4rZ3tMQdmO9s2u5xMk_O_lyxfsW2I3xMwOWZKS7w831UEjhR8)\n",
            "\u001b[0mconfig_driveid> \n",
            "\n",
            "Drive OK?\n",
            "\n",
            "Found drive \"root\" of type \"business\"\n",
            "URL: https://bubahrain-my.sharepoint.com/personal/a_alojaimi_bub_edu_bh/Documents\n",
            "\n",
            "y) Yes (default)\n",
            "n) No\n",
            "y/n> \n",
            "\n",
            "Configuration complete.\n",
            "Options:\n",
            "- type: onedrive\n",
            "- token: {\"access_token\":\"eyJ0eXAiOiJKV1QiLCJub25jZSI6InJpbzZfVnNMQWFtSXZkdEdjQjlpLUdjd2lJSTg0T3Z5RFZKWEsweVk1TW8iLCJhbGciOiJSUzI1NiIsIng1dCI6IkwxS2ZLRklfam5YYndXYzIyeFp4dzFzVUhIMCIsImtpZCI6IkwxS2ZLRklfam5YYndXYzIyeFp4dzFzVUhIMCJ9.eyJhdWQiOiIwMDAwMDAwMy0wMDAwLTAwMDAtYzAwMC0wMDAwMDAwMDAwMDAiLCJpc3MiOiJodHRwczovL3N0cy53aW5kb3dzLm5ldC9mZGVlZDllMS01NWFlLTQ5ZWMtYWNhMi05NjdhNTM0NWM1YWMvIiwiaWF0IjoxNzE0NDE3NzY0LCJuYmYiOjE3MTQ0MTc3NjQsImV4cCI6MTcxNDQyMzM3NiwiYWNjdCI6MCwiYWNyIjoiMSIsImFpbyI6IkFUUUF5LzhXQUFBQTUvMTBjc3NzZ3MycE1nVE1FMU1lNmViSDVQODdGWjFJQ3FwV0VsczNFTENicmZyT1VKelNNbTdWV01mdlZLejkiLCJhbXIiOlsicHdkIl0sImFwcF9kaXNwbGF5bmFtZSI6InJjbG9uZSIsImFwcGlkIjoiYjE1NjY1ZDktZWRhNi00MDkyLTg1MzktMGVlYzM3NmFmZDU5IiwiYXBwaWRhY3IiOiIxIiwiZmFtaWx5X25hbWUiOiJBbG9qYWltaSIsImdpdmVuX25hbWUiOiJBbGkiLCJpZHR5cCI6InVzZXIiLCJpcGFkZHIiOiIyMDAxOjFhNDA6MTIxNjpiZjAwOjYxYTY6NTRiMjo0NzA0OjUzNmUiLCJuYW1lIjoiQWxpIEFsb2phaW1pIiwib2lkIjoiODhmMDFiNWItODE1ZS00Zjc4LTkxOWMtMTBlYWIxMTU3Mjc4IiwicGxhdGYiOiIzIiwicHVpZCI6IjEwMDMyMDAwRTFEREMyNjgiLCJyaCI6IjAuQVM4QTRkbnVfYTVWN0Vtc29wWjZVMFhGckFNQUFBQUFBQUFBd0FBQUFBQUFBQUF2QUhnLiIsInNjcCI6IkZpbGVzLlJlYWQgRmlsZXMuUmVhZC5BbGwgRmlsZXMuUmVhZFdyaXRlIEZpbGVzLlJlYWRXcml0ZS5BbGwgU2l0ZXMuUmVhZC5BbGwgcHJvZmlsZSBvcGVuaWQgZW1haWwiLCJzaWduaW5fc3RhdGUiOlsia21zaSJdLCJzdWIiOiJOLUhUelBmTV9pQkptRXBlQ2tyUlE0Y0xCZGhUSlowSWU0OWRyUFptcUVBIiwidGVuYW50X3JlZ2lvbl9zY29wZSI6IkVVIiwidGlkIjoiZmRlZWQ5ZTEtNTVhZS00OWVjLWFjYTItOTY3YTUzNDVjNWFjIiwidW5pcXVlX25hbWUiOiJhLmFsb2phaW1pQGJ1Yi5lZHUuYmgiLCJ1cG4iOiJhLmFsb2phaW1pQGJ1Yi5lZHUuYmgiLCJ1dGkiOiJ0MGx3VDJ5cFJrbWZQVlhfXzhnTUFBIiwidmVyIjoiMS4wIiwid2lkcyI6WyJiNzlmYmY0ZC0zZWY5LTQ2ODktODE0My03NmIxOTRlODU1MDkiXSwieG1zX3N0Ijp7InN1YiI6InowSDg5TFBEUVZYQzVia3luSTdIbXp0aFVORDF6U3gzdElZcG4weEpxTHMifSwieG1zX3RjZHQiOjE1MzczNjkwNDV9.lHzIMCD3uY0KeDZGAO0ahjXtJwrhXD2Bng5y3Flc0QkL_7fwDhtZHN4iqQxrnbLyfKOUZ4D8biN-Swu6rxGFSBfgXbXE8lOmJJg3xBzP2rHJFmYcWRs2vp4xGyQ5_B-O2MmKWGgk2OhxbPxTNgla3NzgvcQReSf3B99B47bhctwp-Q1sY-WfUobwmB0L7ZgtDZaDKaJhTGJ1ploKqwMvCux5fdfYfRQKNIpUuzT97UopkUUSyAz4wuMNEcOkX45vs9WIyLRl8SMI-CCpQxfgGmNhX8y4T6RFmLDGYiIy4QFfDcqdwsTq6T4JYOhiPv-ZQPzZSoHVZAeWkTr-Tz60IA\",\"token_type\":\"Bearer\",\"refresh_token\":\"0.AS8A4dnu_a5V7EmsopZ6U0XFrNllVrGm7ZJAhTkO7Ddq_VkvAHg.AgABAwEAAADnfolhJpSnRYB1SVj-Hgd8AgDs_wUA9P_HhucXtrwRg6Rs3gbAfxez658_5RRqELmfNt_4ajKFtI0cUjsyPn6eK_XSkHTIqqFLJv58pxdGsygyaatshAnKchz22AAUq63YmFNMiXi9K5EhrIBROQUGU5_BW9QtblQa08RKnrfZVf7recu7HoH9hw9OzyX95l2WQ9-A4EOIKuidrrvG4eB2ysKzx4Vws31BtooTHFcI5LHfuNZlVGjH0UivtStm8oeg8kErhFejC_E9n5YDqGKuRKM83KUayKbcZuz5mTuYPDNYXS3RNzp_E8DueaPEUsJjDv2w-oZ1F2aaUXYFsHIzY4bbROOdyP0M78Q6cIHMd2GFlLeZe3TttXwTxhXQG-AGLaRT8plHjO2mhur728Ph-qnbEfQK53S3i_mmNj5cZqph_YcCEhcBmbGfKjyj4Dr9NB7dRfwCFSFBRFlhZutlCadotu3KbD5q30R2B1Jn45648xB4jFohwpYO7EA7tdw9pgxPN1mPdVl6TG6q1YfGl094zNZv5efdaRa04FGYk-vkpL1CJvpeTdt_KtFOfFnr9c_i6Et_HFeed5KEqFdamNAQJDqRdbOSaLG1SxGv2Bew6vGoi4Ud6RQ_1YlPD8_ZzJsmFbOpLuU70elKQu70LGpmCRBOMBdTE_ExjCwDqHrwC3iZZCasqMvYzPM6i8Vf_wLJ8N0_XXvmgcAA5VIVz1O4IYZ_2H90A4rn-V7iyMgvcYdQF1SV_pt1rz0IgTvFKlUa3QZLY55VILi688fs8sgg70l7Aj3f0NU\",\"expiry\":\"2024-04-29T20:42:55.38079259Z\"}\n",
            "- drive_id: b!_ScqaF1-v0iZzmx4rZ3tMQdmO9s2u5xMk_O_lyxfsW2I3xMwOWZKS7w831UEjhR8\n",
            "- drive_type: business\n",
            "Keep this \"onedrive\" remote?\n",
            "y) Yes this is OK (default)\n",
            "e) Edit this remote\n",
            "d) Delete this remote\n",
            "y/e/d> \n",
            "\n",
            "Current remotes:\n",
            "\n",
            "Name                 Type\n",
            "====                 ====\n",
            "onedrive             onedrive\n",
            "\n",
            "e) Edit existing remote\n",
            "n) New remote\n",
            "d) Delete remote\n",
            "r) Rename remote\n",
            "c) Copy remote\n",
            "s) Set configuration password\n",
            "q) Quit config\n",
            "e/n/d/r/c/s/q> q\n",
            "Hit:1 http://archive.ubuntu.com/ubuntu jammy InRelease\n",
            "Get:2 http://archive.ubuntu.com/ubuntu jammy-updates InRelease [119 kB]\n",
            "Get:3 https://cloud.r-project.org/bin/linux/ubuntu jammy-cran40/ InRelease [3,626 B]\n",
            "Hit:4 https://developer.download.nvidia.com/compute/cuda/repos/ubuntu2204/x86_64  InRelease\n",
            "Get:5 http://security.ubuntu.com/ubuntu jammy-security InRelease [110 kB]\n",
            "Hit:6 http://archive.ubuntu.com/ubuntu jammy-backports InRelease\n",
            "Get:7 https://cloud.r-project.org/bin/linux/ubuntu jammy-cran40/ Packages [52.9 kB]\n",
            "Hit:8 https://ppa.launchpadcontent.net/c2d4u.team/c2d4u4.0+/ubuntu jammy InRelease\n",
            "Get:9 http://archive.ubuntu.com/ubuntu jammy-updates/universe amd64 Packages [1,370 kB]\n",
            "Get:10 http://archive.ubuntu.com/ubuntu jammy-updates/main amd64 Packages [2,035 kB]\n",
            "Get:11 https://ppa.launchpadcontent.net/deadsnakes/ppa/ubuntu jammy InRelease [18.1 kB]\n",
            "Get:12 http://security.ubuntu.com/ubuntu jammy-security/universe amd64 Packages [1,077 kB]\n",
            "Get:13 https://ppa.launchpadcontent.net/graphics-drivers/ppa/ubuntu jammy InRelease [24.3 kB]\n",
            "Get:14 http://security.ubuntu.com/ubuntu jammy-security/main amd64 Packages [1,756 kB]\n",
            "Hit:15 https://ppa.launchpadcontent.net/ubuntugis/ppa/ubuntu jammy InRelease\n",
            "Get:16 https://ppa.launchpadcontent.net/deadsnakes/ppa/ubuntu jammy/main amd64 Packages [27.8 kB]\n",
            "Get:17 https://ppa.launchpadcontent.net/graphics-drivers/ppa/ubuntu jammy/main amd64 Packages [44.2 kB]\n",
            "Fetched 6,639 kB in 1s (5,566 kB/s)\n",
            "Reading package lists... Done\n",
            "Reading package lists... Done\n",
            "Building dependency tree... Done\n",
            "Reading state information... Done\n",
            "The following package was automatically installed and is no longer required:\n",
            "  libfuse2\n",
            "Use 'sudo apt autoremove' to remove it.\n",
            "The following additional packages will be installed:\n",
            "  libfuse3-3\n",
            "The following packages will be REMOVED:\n",
            "  fuse\n",
            "The following NEW packages will be installed:\n",
            "  fuse3 libfuse3-3\n",
            "0 upgraded, 2 newly installed, 1 to remove and 50 not upgraded.\n",
            "Need to get 106 kB of archives.\n",
            "After this operation, 264 kB of additional disk space will be used.\n",
            "Get:1 http://archive.ubuntu.com/ubuntu jammy/main amd64 libfuse3-3 amd64 3.10.5-1build1 [81.2 kB]\n",
            "Get:2 http://archive.ubuntu.com/ubuntu jammy/main amd64 fuse3 amd64 3.10.5-1build1 [24.7 kB]\n",
            "Fetched 106 kB in 0s (730 kB/s)\n",
            "debconf: unable to initialize frontend: Dialog\n",
            "debconf: (No usable dialog-like program is installed, so the dialog based frontend cannot be used. at /usr/share/perl5/Debconf/FrontEnd/Dialog.pm line 78, <> line 2.)\n",
            "debconf: falling back to frontend: Readline\n",
            "debconf: unable to initialize frontend: Readline\n",
            "debconf: (This frontend requires a controlling tty.)\n",
            "debconf: falling back to frontend: Teletype\n",
            "dpkg-preconfigure: unable to re-open stdin: \n",
            "(Reading database ... 121757 files and directories currently installed.)\n",
            "Removing fuse (2.9.9-5ubuntu3) ...\n",
            "Selecting previously unselected package libfuse3-3:amd64.\n",
            "(Reading database ... 121747 files and directories currently installed.)\n",
            "Preparing to unpack .../libfuse3-3_3.10.5-1build1_amd64.deb ...\n",
            "Unpacking libfuse3-3:amd64 (3.10.5-1build1) ...\n",
            "Selecting previously unselected package fuse3.\n",
            "Preparing to unpack .../fuse3_3.10.5-1build1_amd64.deb ...\n",
            "Unpacking fuse3 (3.10.5-1build1) ...\n",
            "Setting up libfuse3-3:amd64 (3.10.5-1build1) ...\n",
            "Setting up fuse3 (3.10.5-1build1) ...\n",
            "Installing new version of config file /etc/fuse.conf ...\n",
            "Processing triggers for man-db (2.10.2-1) ...\n",
            "Processing triggers for libc-bin (2.35-0ubuntu3.4) ...\n",
            "/sbin/ldconfig.real: /usr/local/lib/libtbbbind_2_0.so.3 is not a symbolic link\n",
            "\n",
            "/sbin/ldconfig.real: /usr/local/lib/libtbbbind_2_5.so.3 is not a symbolic link\n",
            "\n",
            "/sbin/ldconfig.real: /usr/local/lib/libtbb.so.12 is not a symbolic link\n",
            "\n",
            "/sbin/ldconfig.real: /usr/local/lib/libtbbmalloc.so.2 is not a symbolic link\n",
            "\n",
            "/sbin/ldconfig.real: /usr/local/lib/libtbbmalloc_proxy.so.2 is not a symbolic link\n",
            "\n",
            "/sbin/ldconfig.real: /usr/local/lib/libtbbbind.so.3 is not a symbolic link\n",
            "\n",
            "nohup: appending output to 'nohup.out'\n"
          ]
        }
      ],
      "source": [
        "!wget https://downloads.rclone.org/v1.65.2/rclone-v1.65.2-linux-amd64.deb\n",
        "!apt install ./rclone-v1.65.2-linux-amd64.deb\n",
        "!rclone config\n",
        "!sudo mkdir /content/onedrive\n",
        "!sudo apt-get update\n",
        "!sudo apt-get -y install fuse3\n",
        "!nohup rclone --vfs-cache-mode writes mount onedrive: /content/onedrive &"
      ]
    },
    {
      "cell_type": "code",
      "execution_count": 3,
      "metadata": {
        "colab": {
          "base_uri": "https://localhost:8080/"
        },
        "id": "GqBcFo5YnJ1s",
        "outputId": "22c8b3a2-991a-4f34-a496-2620111b752d"
      },
      "outputs": [
        {
          "output_type": "stream",
          "name": "stdout",
          "text": [
            "env: PYTHONPATH=# /env/python\n",
            "--2024-04-29 19:14:41--  https://repo.anaconda.com/miniconda/Miniconda3-py37_23.1.0-1-Linux-x86_64.sh\n",
            "Resolving repo.anaconda.com (repo.anaconda.com)... 104.16.32.241, 104.16.191.158, 2606:4700::6810:bf9e, ...\n",
            "Connecting to repo.anaconda.com (repo.anaconda.com)|104.16.32.241|:443... connected.\n",
            "HTTP request sent, awaiting response... 200 OK\n",
            "Length: 90665082 (86M) [application/x-sh]\n",
            "Saving to: ‘Miniconda3-py37_23.1.0-1-Linux-x86_64.sh’\n",
            "\n",
            "Miniconda3-py37_23. 100%[===================>]  86.46M   102MB/s    in 0.9s    \n",
            "\n",
            "2024-04-29 19:14:42 (102 MB/s) - ‘Miniconda3-py37_23.1.0-1-Linux-x86_64.sh’ saved [90665082/90665082]\n",
            "\n",
            "PREFIX=/usr/local\n",
            "Unpacking payload ...\n",
            "                                                                                      \n",
            "Installing base environment...\n",
            "\n",
            "\n",
            "Downloading and Extracting Packages\n",
            "\n",
            "\n",
            "Downloading and Extracting Packages\n",
            "\n",
            "Preparing transaction: - \b\b\\ \b\b| \b\b/ \b\bdone\n",
            "Executing transaction: \\ \b\b| \b\b/ \b\b- \b\b\\ \b\b| \b\b/ \b\b- \b\b\\ \b\b| \b\b/ \b\b- \b\b\\ \b\b| \b\b/ \b\b- \b\b\\ \b\b| \b\b/ \b\b- \b\b\\ \b\b| \b\b/ \b\b- \b\b\\ \b\b| \b\b/ \b\b- \b\b\\ \b\bdone\n",
            "installation finished.\n",
            "WARNING:\n",
            "    You currently have a PYTHONPATH environment variable set. This may cause\n",
            "    unexpected behavior when running the Python interpreter in Miniconda3.\n",
            "    For best results, please verify that your PYTHONPATH only points to\n",
            "    directories of packages that are compatible with the Python interpreter\n",
            "    in Miniconda3: /usr/local\n",
            "Collecting package metadata (current_repodata.json): - \b\b\\ \b\b| \b\b/ \b\b- \b\b\\ \b\b| \b\b/ \b\b- \b\b\\ \b\b| \b\b/ \b\b- \b\b\\ \b\b| \b\b/ \b\b- \b\b\\ \b\b| \b\b/ \b\b- \b\b\\ \b\b| \b\b/ \b\b- \b\b\\ \b\b| \b\b/ \b\b- \b\b\\ \b\b| \b\b/ \b\b- \b\b\\ \b\b| \b\b/ \b\b- \b\b\\ \b\b| \b\b/ \b\b- \b\b\\ \b\b| \b\b/ \b\b- \b\bdone\n",
            "Solving environment: | \b\b/ \b\b- \b\b\\ \b\b| \b\b/ \b\b- \b\b\\ \b\b| \b\b/ \b\b- \b\b\\ \b\b| \b\bdone\n",
            "\n",
            "\n",
            "==> WARNING: A newer version of conda exists. <==\n",
            "  current version: 23.1.0\n",
            "  latest version: 24.4.0\n",
            "\n",
            "Please update conda by running\n",
            "\n",
            "    $ conda update -n base -c defaults conda\n",
            "\n",
            "Or to minimize the number of packages updated during conda update use\n",
            "\n",
            "     conda install conda=24.4.0\n",
            "\n",
            "\n",
            "\n",
            "## Package Plan ##\n",
            "\n",
            "  environment location: /usr/local\n",
            "\n",
            "  added / updated specs:\n",
            "    - conda\n",
            "\n",
            "\n",
            "The following packages will be downloaded:\n",
            "\n",
            "    package                    |            build\n",
            "    ---------------------------|-----------------\n",
            "    ca-certificates-2024.3.11  |       h06a4308_0         127 KB\n",
            "    libffi-3.4.4               |       h6a678d5_0         142 KB\n",
            "    openssl-1.1.1w             |       h7f8727e_0         3.7 MB\n",
            "    sqlite-3.41.2              |       h5eee18b_0         1.2 MB\n",
            "    xz-5.4.6                   |       h5eee18b_0         651 KB\n",
            "    zstandard-0.19.0           |   py37h5eee18b_0         473 KB\n",
            "    ------------------------------------------------------------\n",
            "                                           Total:         6.3 MB\n",
            "\n",
            "The following packages will be UPDATED:\n",
            "\n",
            "  ca-certificates                     2023.01.10-h06a4308_0 --> 2024.3.11-h06a4308_0 \n",
            "  libffi                                   3.4.2-h6a678d5_6 --> 3.4.4-h6a678d5_0 \n",
            "  openssl                                 1.1.1s-h7f8727e_0 --> 1.1.1w-h7f8727e_0 \n",
            "  sqlite                                  3.40.1-h5082296_0 --> 3.41.2-h5eee18b_0 \n",
            "  xz                                      5.2.10-h5eee18b_1 --> 5.4.6-h5eee18b_0 \n",
            "  zstandard                           0.18.0-py37h5eee18b_0 --> 0.19.0-py37h5eee18b_0 \n",
            "\n",
            "\n",
            "Proceed ([y]/n)? y\n",
            "\n",
            "\n",
            "Downloading and Extracting Packages\n",
            "sqlite-3.41.2        | 1.2 MB    | :   0% 0/1 [00:00<?, ?it/s]\n",
            "libffi-3.4.4         | 142 KB    | :   0% 0/1 [00:00<?, ?it/s]\u001b[A\n",
            "\n",
            "xz-5.4.6             | 651 KB    | :   0% 0/1 [00:00<?, ?it/s]\u001b[A\u001b[A\n",
            "\n",
            "\n",
            "ca-certificates-2024 | 127 KB    | :   0% 0/1 [00:00<?, ?it/s]\u001b[A\u001b[A\u001b[A\n",
            "\n",
            "\n",
            "\n",
            "zstandard-0.19.0     | 473 KB    | :   0% 0/1 [00:00<?, ?it/s]\u001b[A\u001b[A\u001b[A\u001b[A\n",
            "\n",
            "\n",
            "\n",
            "\n",
            "openssl-1.1.1w       | 3.7 MB    | :   0% 0/1 [00:00<?, ?it/s]\u001b[A\u001b[A\u001b[A\u001b[A\u001b[A\n",
            "libffi-3.4.4         | 142 KB    | :  11% 0.11271016207589224/1 [00:00<00:00,  1.12it/s]\u001b[A\n",
            "\n",
            "\n",
            "ca-certificates-2024 | 127 KB    | :  50% 0.5027347555596469/1 [00:00<00:00,  4.91it/s]\u001b[A\u001b[A\u001b[A\n",
            "\n",
            "\n",
            "\n",
            "sqlite-3.41.2        | 1.2 MB    | :   1% 0.013323043970761513/1 [00:00<00:08,  8.93s/it]\n",
            "\n",
            "xz-5.4.6             | 651 KB    | :   2% 0.024589524238331082/1 [00:00<00:04,  4.63s/it]\u001b[A\u001b[A\n",
            "\n",
            "\n",
            "\n",
            "\n",
            "openssl-1.1.1w       | 3.7 MB    | :   0% 0.004187193943698291/1 [00:00<00:35, 35.38s/it]\u001b[A\u001b[A\u001b[A\u001b[A\u001b[A\n",
            "\n",
            "\n",
            "ca-certificates-2024 | 127 KB    | : 100% 1.0/1 [00:00<00:00,  4.91it/s]               \u001b[A\u001b[A\u001b[A\n",
            "\n",
            "\n",
            "\n",
            "zstandard-0.19.0     | 473 KB    | : 100% 1.0/1 [00:00<00:00,  4.36it/s]                \u001b[A\u001b[A\u001b[A\u001b[A\n",
            "\n",
            "\n",
            "\n",
            "zstandard-0.19.0     | 473 KB    | : 100% 1.0/1 [00:00<00:00,  4.36it/s]\u001b[A\u001b[A\u001b[A\u001b[A\n",
            "\n",
            "\n",
            "\n",
            "\n",
            "sqlite-3.41.2        | 1.2 MB    | : 100% 1.0/1 [00:00<00:00,  3.19it/s]\n",
            "libffi-3.4.4         | 142 KB    | : 100% 1.0/1 [00:00<00:00,  2.09it/s]                \u001b[A\n",
            "libffi-3.4.4         | 142 KB    | : 100% 1.0/1 [00:00<00:00,  2.09it/s]\u001b[A\n",
            "\n",
            "xz-5.4.6             | 651 KB    | : 100% 1.0/1 [00:00<00:00,  2.11it/s]                 \u001b[A\u001b[A\n",
            "\n",
            "xz-5.4.6             | 651 KB    | : 100% 1.0/1 [00:00<00:00,  2.11it/s]\u001b[A\u001b[A\n",
            "\n",
            "\n",
            "\n",
            "\n",
            "openssl-1.1.1w       | 3.7 MB    | : 100% 1.0/1 [00:00<00:00,  1.90it/s]               \u001b[A\u001b[A\u001b[A\u001b[A\u001b[A\n",
            "\n",
            "\n",
            "\n",
            "\n",
            "                                                                        \n",
            "                                                                        \u001b[A\n",
            "\n",
            "                                                                        \u001b[A\u001b[A\n",
            "\n",
            "\n",
            "                                                                        \u001b[A\u001b[A\u001b[A\n",
            "\n",
            "\n",
            "\n",
            "                                                                        \u001b[A\u001b[A\u001b[A\u001b[A\n",
            "\n",
            "\n",
            "\n",
            "\n",
            "                                                                        \u001b[A\u001b[A\u001b[A\u001b[A\u001b[A\n",
            "Preparing transaction: - \b\bdone\n",
            "Verifying transaction: | \b\b/ \b\bdone\n",
            "Executing transaction: \\ \b\bdone\n",
            "/content/onedrive/stylegan2-colab/stylegan2\n",
            "Collecting package metadata (repodata.json): - \b\b\\ \b\b| \b\b/ \b\b- \b\b\\ \b\b| \b\b/ \b\b- \b\b\\ \b\b| \b\b/ \b\b- \b\b\\ \b\b| \b\b/ \b\b- \b\b\\ \b\b| \b\b/ \b\b- \b\b\\ \b\b| \b\b/ \b\b- \b\b\\ \b\b| \b\b/ \b\b- \b\b\\ \b\b| \b\b/ \b\b- \b\b\\ \b\b| \b\b/ \b\b- \b\b\\ \b\b| \b\b/ \b\b- \b\b\\ \b\b| \b\b/ \b\b- \b\b\\ \b\b| \b\b/ \b\b- \b\b\\ \b\b| \b\b/ \b\b- \b\b\\ \b\b| \b\b/ \b\b- \b\b\\ \b\b| \b\b/ \b\b- \b\b\\ \b\b| \b\b/ \b\b- \b\b\\ \b\b| \b\b/ \b\b- \b\b\\ \b\b| \b\b/ \b\b- \b\b\\ \b\b| \b\b/ \b\b- \b\b\\ \b\b| \b\b/ \b\b- \b\b\\ \b\b| \b\b/ \b\b- \b\b\\ \b\b| \b\b/ \b\b- \b\b\\ \b\b| \b\b/ \b\b- \b\b\\ \b\b| \b\b/ \b\b- \b\b\\ \b\b| \b\b/ \b\b- \b\b\\ \b\b| \b\b/ \b\bdone\n",
            "Solving environment: \\ \b\b| \b\b/ \b\b- \b\b\\ \b\b| \b\b/ \b\b- \b\bdone\n",
            "\n",
            "\n",
            "==> WARNING: A newer version of conda exists. <==\n",
            "  current version: 23.1.0\n",
            "  latest version: 24.4.0\n",
            "\n",
            "Please update conda by running\n",
            "\n",
            "    $ conda update -n base -c defaults conda\n",
            "\n",
            "Or to minimize the number of packages updated during conda update use\n",
            "\n",
            "     conda install conda=24.4.0\n",
            "\n",
            "\n",
            "\n",
            "Downloading and Extracting Packages\n",
            "                                                                        \n",
            "Preparing transaction: | \b\b/ \b\b- \b\b\\ \b\bdone\n",
            "Verifying transaction: / \b\b- \b\b\\ \b\b| \b\b/ \b\b- \b\b\\ \b\b| \b\b/ \b\b- \b\b\\ \b\b| \b\bdone\n",
            "Executing transaction: - \b\b\\ \b\b| \b\b/ \b\b- \b\b\\ \b\b| \b\b/ \b\bdone\n",
            "Installing pip dependencies: \\ \b\b| \b\b/ \b\b- \b\b\\ \b\b| \b\b/ \b\b- \b\b\\ \b\b| \b\b/ \b\b- \b\b\\ \b\b| \b\b/ \b\b- \b\b\\ \b\b| \b\b/ \b\b- \b\b\\ \b\b| \b\b/ \b\b- \b\b\\ \b\b| \b\b/ \b\b- \b\b\\ \b\b| \b\b/ \b\b- \b\b\\ \b\b| \b\b/ \b\b- \b\b\\ \b\b| \b\b/ \b\b- \b\b\\ \b\b| \b\b/ \b\b- \b\b\\ \b\b| \b\b/ \b\b- \b\b\\ \b\b| \b\b/ \b\b- \b\b\\ \b\b| \b\b/ \b\b- \b\b\\ \b\b| \b\b/ \b\b- \b\b\\ \b\b| \b\b/ \b\b- \b\b\\ \b\b| \b\b/ \b\b- \b\b\\ \b\b| \b\b/ \b\b- \b\b\\ \b\b| \b\b/ \b\b- \b\b\\ \b\b| \b\b/ \b\b- \b\b\\ \b\b| \b\b/ \b\b- \b\b\\ \b\b| \b\b/ \b\b- \b\b\\ \b\b| \b\b/ \b\b- \b\b\\ \b\b| \b\b/ \b\b- \b\b\\ \b\b| \b\b/ \b\b- \b\b\\ \b\b| \b\b/ \b\b- \b\b\\ \b\b| \b\b/ \b\b- \b\b\\ \b\b| \b\b/ \b\b- \b\b\\ \b\b| \b\b/ \b\b- \b\b\\ \b\b| \b\b/ \b\b- \b\b\\ \b\b| \b\b/ \b\b- \b\b\\ \b\b| \b\b/ \b\b- \b\b\\ \b\b| \b\b/ \b\b- \b\b\\ \b\b| \b\b/ \b\b- \b\b\\ \b\b| \b\b/ \b\b- \b\b\\ \b\b| \b\b/ \b\b- \b\b\\ \b\b| \b\b/ \b\b- \b\b\\ \b\b| \b\b/ \b\b- \b\b\\ \b\b| \b\b/ \b\b- \b\b\\ \b\b| \b\b/ \b\b- \b\b\\ \b\b| \b\b/ \b\b- \b\b\\ \b\b| \b\b/ \b\b- \b\b\\ \b\b| \b\b/ \b\b- \b\b\\ \b\b| \b\b/ \b\b- \b\b\\ \b\b| \b\b/ \b\b- \b\b\\ \b\b| \b\b/ \b\b- \b\b\\ \b\b| \b\b/ \b\b- \b\b\\ \b\b| \b\b/ \b\b- \b\b\\ \b\b| \b\b/ \b\b- \b\b\\ \b\b| \b\b/ \b\b- \b\b\\ \b\b| \b\b/ \b\b- \b\b\\ \b\b| \b\b/ \b\b- \b\b\\ \b\b| \b\b/ \b\b- \b\b\\ \b\b| \b\b/ \b\b- \b\b\\ \b\b| \b\b/ \b\b- \b\b\\ \b\b| \b\b/ \b\b- \b\b\\ \b\b| \b\b/ \b\b- \b\b\\ \b\b| \b\b/ \b\b- \b\b\\ \b\b| \b\b/ \b\b- \b\b\\ \b\b| \b\b/ \b\b- \b\b\\ \b\b| \b\b/ \b\b- \b\b\\ \b\b| \b\b/ \b\b- \b\b\\ \b\b| \b\b/ \b\b- \b\b\\ \b\b| \b\b/ \b\b- \b\b\\ \b\b| \b\b/ \b\b- \b\b\\ \b\b| \b\b/ \b\b- \b\b\\ \b\b| \b\b/ \b\b- \b\b\\ \b\b| \b\b/ \b\b- \b\b\\ \b\b| \b\b/ \b\b- \b\b\\ \b\b| \b\b/ \b\b- \b\b\\ \b\b| \b\b/ \b\b- \b\b\\ \b\b| \b\b/ \b\b- \b\b\\ \b\b| \b\b/ \b\b- \b\b\\ \b\b| \b\b/ \b\b- \b\b\\ \b\b| \b\b/ \b\b- \b\b\\ \b\b| \b\b/ \b\b- \b\b\\ \b\b| \b\b/ \b\b- \b\b\\ \b\b| \b\b/ \b\b- \b\b\\ \b\b| \b\b/ \b\b- \b\b\\ \b\b| \b\b/ \b\b- \b\b\\ \b\b| \b\b/ \b\b- \b\b\\ \b\b| \b\b/ \b\b- \b\b\\ \b\b| \b\b/ \b\b- \b\b\\ \b\b| \b\b/ \b\b- \b\b\\ \b\b| \b\b/ \b\b- \b\b\\ \b\b| \b\b/ \b\b- \b\b\\ \b\b| \b\b/ \b\b- \b\b\\ \b\b| \b\b/ \b\b- \b\b\\ \b\b| \b\b/ \b\b- \b\b\\ \b\b| \b\b/ \b\b- \b\b\\ \b\b| \b\b/ \b\b- \b\b\\ \b\b| \b\b/ \b\b- \b\b\\ \b\b| \b\b/ \b\b- \b\b\\ \b\b| \b\b/ \b\b- \b\b\\ \b\b| \b\b/ \b\b- \b\b\\ \b\b| \b\b/ \b\b- \b\b\\ \b\b| \b\b/ \b\b- \b\b\\ \b\b| \b\b/ \b\b- \b\b\\ \b\b| \b\b/ \b\b- \b\b\\ \b\b| \b\b/ \b\b- \b\b\\ \b\b| \b\b/ \b\b- \b\b\\ \b\b| \b\b/ \b\b- \b\b\\ \b\b| \b\b/ \b\b- \b\b\\ \b\b| \b\b/ \b\b- \b\b\\ \b\b| \b\b/ \b\b- \b\b\\ \b\b| \b\b/ \b\b- \b\b\\ \b\b| \b\b/ \b\b- \b\b\\ \b\b| \b\b/ \b\b- \b\b\\ \b\b| \b\b/ \b\b- \b\b\\ \b\b| \b\b/ \b\b- \b\b\\ \b\b| \b\b/ \b\b- \b\b\\ \b\b| \b\b/ \b\b- \b\b\\ \b\b| \b\b/ \b\b- \b\b\\ \b\b| \b\b/ \b\b- \b\b\\ \b\b| \b\b/ \b\b- \b\b\\ \b\b| \b\b/ \b\b- \b\b\\ \b\b| \b\b/ \b\b- \b\b\\ \b\b| \b\b/ \b\b- \b\b\\ \b\b| \b\b/ \b\b- \b\b\\ \b\b| \b\b/ \b\b- \b\b\\ \b\b| \b\b/ \b\b- \b\b\\ \b\b| \b\b/ \b\b- \b\b\\ \b\b| \b\b/ \b\b- \b\b\\ \b\b| \b\b/ \b\b- \b\b\\ \b\b| \b\b/ \b\b- \b\b\\ \b\b| \b\b/ \b\b- \b\b\\ \b\b| \b\b/ \b\b- \b\b\\ \b\b| \b\b/ \b\b- \b\b\\ \b\b| \b\b/ \b\b- \b\b\\ \b\b| \b\b/ \b\b- \b\b\\ \b\b| \b\b/ \b\b- \b\b\\ \b\b| \b\b/ \b\b- \b\b\\ \b\b| \b\b/ \b\b- \b\b\\ \b\b| \b\b/ \b\b- \b\b\\ \b\b| \b\b/ \b\b- \b\b\\ \b\b| \b\b/ \b\b- \b\b\\ \b\b| \b\b/ \b\b- \b\b\\ \b\b| \b\b/ \b\b- \b\b\\ \b\b| \b\b/ \b\b- \b\b\\ \b\b| \b\b/ \b\b- \b\b\\ \b\b| \b\b/ \b\b- \b\b\\ \b\b| \b\b/ \b\b- \b\b\\ \b\b| \b\b/ \b\b- \b\b\\ \b\b| \b\b/ \b\b- \b\b\\ \b\b| \b\b/ \b\b- \b\b\\ \b\b| \b\b/ \b\b- \b\b\\ \b\b| \b\b/ \b\b- \b\b\\ \b\b| \b\b/ \b\b- \b\b\\ \b\b| \b\b/ \b\b- \b\b\\ \b\b| \b\b/ \b\b- \b\b\\ \b\b| \b\b/ \b\b- \b\b\\ \b\b| \b\b/ \b\b- \b\b\\ \b\b| \b\b/ \b\b- \b\b\\ \b\b| \b\b/ \b\b- \b\b\\ \b\b| \b\b/ \b\b- \b\b\\ \b\b| \b\b/ \b\b- \b\b\\ \b\b| \b\b/ \b\b- \b\b\\ \b\b| \b\b/ \b\b- \b\b\\ \b\b| \b\b/ \b\b- \b\b\\ \b\b| \b\b/ \b\b- \b\b\\ \b\b| \b\b/ \b\b- \b\b\\ \b\b| \b\b/ \b\b- \b\b\\ \b\b| \b\b/ \b\b- \b\b\\ \b\b| \b\b/ \b\b- \b\b\\ \b\b| \b\b/ \b\b- \b\b\\ \b\b| \b\b/ \b\b- \b\b\\ \b\b| \b\b/ \b\b- \b\b\\ \b\b| \b\b/ \b\b- \b\b\\ \b\b| \b\b/ \b\b- \b\b\\ \b\b| \b\b/ \b\b- \b\b\\ \b\b| \b\b/ \b\b- \b\b\\ \b\b| \b\b/ \b\b- \b\b\\ \b\b| \b\b/ \b\b- \b\b\\ \b\b| \b\b/ \b\b- \b\b\\ \b\b| \b\b/ \b\b- \b\b\\ \b\b| \b\b/ \b\b- \b\b\\ \b\b| \b\b/ \b\b- \b\b\\ \b\b| \b\b/ \b\b- \b\b\\ \b\b| \b\b/ \b\b- \b\b\\ \b\b| \b\b/ \b\b- \b\b\\ \b\b| \b\b/ \b\b- \b\b\\ \b\b| \b\b/ \b\b- \b\b\\ \b\b| \b\b/ \b\b- \b\b\\ \b\b| \b\b/ \b\b- \b\b\\ \b\b| \b\b/ \b\b- \b\b\\ \b\b| \b\b/ \b\b- \b\b\\ \b\b| \b\b/ \b\b- \b\b\\ \b\b| \b\b/ \b\b- \b\b\\ \b\b| \b\b/ \b\b- \b\b\\ \b\b| \b\b/ \b\b- \b\b\\ \b\b| \b\b/ \b\b- \b\b\\ \b\b| \b\b/ \b\b- \b\b\\ \b\b| \b\b/ \b\b- \b\b\\ \b\b| \b\b/ \b\b- \b\b\\ \b\b| \b\b/ \b\b- \b\b\\ \b\b| \b\b/ \b\b- \b\b\\ Ran pip subprocess with arguments:\n",
            "['/usr/local/envs/fyp/bin/python', '-m', 'pip', 'install', '-U', '-r', '/content/onedrive/stylegan2-colab/stylegan2/condaenv.mj54du6w.requirements.txt', '--exists-action=b']\n",
            "Pip subprocess output:\n",
            "Collecting absl-py\n",
            "  Downloading absl_py-2.1.0-py3-none-any.whl (133 kB)\n",
            "     ━━━━━━━━━━━━━━━━━━━━━━━━━━━━━━━━━━━━━━━━ 133.7/133.7 kB 4.4 MB/s eta 0:00:00\n",
            "Collecting astor\n",
            "  Downloading astor-0.8.1-py2.py3-none-any.whl (27 kB)\n",
            "Requirement already satisfied: certifi in /usr/local/envs/fyp/lib/python3.7/site-packages (from -r /content/onedrive/stylegan2-colab/stylegan2/condaenv.mj54du6w.requirements.txt (line 3)) (2022.12.7)\n",
            "Collecting certifi\n",
            "  Downloading certifi-2024.2.2-py3-none-any.whl (163 kB)\n",
            "     ━━━━━━━━━━━━━━━━━━━━━━━━━━━━━━━━━━━━━━━━ 163.8/163.8 kB 9.5 MB/s eta 0:00:00\n",
            "Collecting cffi\n",
            "  Downloading cffi-1.15.1-cp37-cp37m-manylinux_2_17_x86_64.manylinux2014_x86_64.whl (427 kB)\n",
            "     ━━━━━━━━━━━━━━━━━━━━━━━━━━━━━━━━━━━━━━━━ 427.9/427.9 kB 24.0 MB/s eta 0:00:00\n",
            "Collecting chardet\n",
            "  Downloading chardet-5.2.0-py3-none-any.whl (199 kB)\n",
            "     ━━━━━━━━━━━━━━━━━━━━━━━━━━━━━━━━━━━━━━━━ 199.4/199.4 kB 23.8 MB/s eta 0:00:00\n",
            "Collecting click\n",
            "  Downloading click-8.1.7-py3-none-any.whl (97 kB)\n",
            "     ━━━━━━━━━━━━━━━━━━━━━━━━━━━━━━━━━━━━━━━━ 97.9/97.9 kB 14.4 MB/s eta 0:00:00\n",
            "Collecting colorcet\n",
            "  Downloading colorcet-3.1.0-py3-none-any.whl (260 kB)\n",
            "     ━━━━━━━━━━━━━━━━━━━━━━━━━━━━━━━━━━━━━━━━ 260.3/260.3 kB 28.2 MB/s eta 0:00:00\n",
            "Collecting flask\n",
            "  Downloading Flask-2.2.5-py3-none-any.whl (101 kB)\n",
            "     ━━━━━━━━━━━━━━━━━━━━━━━━━━━━━━━━━━━━━━━━ 101.8/101.8 kB 14.4 MB/s eta 0:00:00\n",
            "Collecting flask-cors\n",
            "  Downloading Flask_Cors-4.0.0-py2.py3-none-any.whl (14 kB)\n",
            "Collecting flask-sockets\n",
            "  Downloading Flask_Sockets-0.2.1-py2.py3-none-any.whl (3.8 kB)\n",
            "Collecting gast\n",
            "  Downloading gast-0.5.4-py3-none-any.whl (19 kB)\n",
            "Collecting gevent\n",
            "  Downloading gevent-22.10.2-cp37-cp37m-manylinux_2_17_x86_64.manylinux2014_x86_64.whl (6.0 MB)\n",
            "     ━━━━━━━━━━━━━━━━━━━━━━━━━━━━━━━━━━━━━━━━ 6.0/6.0 MB 77.8 MB/s eta 0:00:00\n",
            "Collecting gevent-websocket\n",
            "  Downloading gevent_websocket-0.10.1-py3-none-any.whl (22 kB)\n",
            "Collecting google-pasta\n",
            "  Downloading google_pasta-0.2.0-py3-none-any.whl (57 kB)\n",
            "     ━━━━━━━━━━━━━━━━━━━━━━━━━━━━━━━━━━━━━━━━ 57.5/57.5 kB 7.9 MB/s eta 0:00:00\n",
            "Collecting greenlet\n",
            "  Downloading greenlet-3.0.3-cp37-cp37m-manylinux_2_24_x86_64.manylinux_2_28_x86_64.whl (574 kB)\n",
            "     ━━━━━━━━━━━━━━━━━━━━━━━━━━━━━━━━━━━━━━━━ 574.0/574.0 kB 47.6 MB/s eta 0:00:00\n",
            "Collecting grpcio\n",
            "  Downloading grpcio-1.62.2-cp37-cp37m-manylinux_2_17_x86_64.manylinux2014_x86_64.whl (5.6 MB)\n",
            "     ━━━━━━━━━━━━━━━━━━━━━━━━━━━━━━━━━━━━━━━━ 5.6/5.6 MB 96.6 MB/s eta 0:00:00\n",
            "Collecting h5py\n",
            "  Downloading h5py-3.8.0-cp37-cp37m-manylinux_2_17_x86_64.manylinux2014_x86_64.whl (4.3 MB)\n",
            "     ━━━━━━━━━━━━━━━━━━━━━━━━━━━━━━━━━━━━━━━━ 4.3/4.3 MB 99.1 MB/s eta 0:00:00\n",
            "Collecting idna\n",
            "  Downloading idna-3.7-py3-none-any.whl (66 kB)\n",
            "     ━━━━━━━━━━━━━━━━━━━━━━━━━━━━━━━━━━━━━━━━ 66.8/66.8 kB 9.3 MB/s eta 0:00:00\n",
            "Collecting itsdangerous\n",
            "  Downloading itsdangerous-2.1.2-py3-none-any.whl (15 kB)\n",
            "Collecting jinja2\n",
            "  Downloading Jinja2-3.1.3-py3-none-any.whl (133 kB)\n",
            "     ━━━━━━━━━━━━━━━━━━━━━━━━━━━━━━━━━━━━━━━━ 133.2/133.2 kB 17.2 MB/s eta 0:00:00\n",
            "Collecting keras-applications\n",
            "  Downloading Keras_Applications-1.0.8-py3-none-any.whl (50 kB)\n",
            "     ━━━━━━━━━━━━━━━━━━━━━━━━━━━━━━━━━━━━━━━━ 50.7/50.7 kB 7.5 MB/s eta 0:00:00\n",
            "Collecting keras-preprocessing\n",
            "  Downloading Keras_Preprocessing-1.1.2-py2.py3-none-any.whl (42 kB)\n",
            "     ━━━━━━━━━━━━━━━━━━━━━━━━━━━━━━━━━━━━━━━━ 42.6/42.6 kB 5.7 MB/s eta 0:00:00\n",
            "Collecting markdown\n",
            "  Downloading Markdown-3.4.4-py3-none-any.whl (94 kB)\n",
            "     ━━━━━━━━━━━━━━━━━━━━━━━━━━━━━━━━━━━━━━━━ 94.2/94.2 kB 13.3 MB/s eta 0:00:00\n",
            "Collecting markupsafe\n",
            "  Downloading MarkupSafe-2.1.5-cp37-cp37m-manylinux_2_17_x86_64.manylinux2014_x86_64.whl (25 kB)\n",
            "Collecting mock\n",
            "  Downloading mock-5.1.0-py3-none-any.whl (30 kB)\n",
            "Collecting numpy\n",
            "  Downloading numpy-1.21.6-cp37-cp37m-manylinux_2_12_x86_64.manylinux2010_x86_64.whl (15.7 MB)\n",
            "     ━━━━━━━━━━━━━━━━━━━━━━━━━━━━━━━━━━━━━━━━ 15.7/15.7 MB 76.5 MB/s eta 0:00:00\n",
            "Collecting opensimplex\n",
            "  Downloading opensimplex-0.4.2-py3-none-any.whl (17 kB)\n",
            "Collecting opt-einsum\n",
            "  Downloading opt_einsum-3.3.0-py3-none-any.whl (65 kB)\n",
            "     ━━━━━━━━━━━━━━━━━━━━━━━━━━━━━━━━━━━━━━━━ 65.5/65.5 kB 8.8 MB/s eta 0:00:00\n",
            "Collecting param\n",
            "  Downloading param-1.13.0-py2.py3-none-any.whl (87 kB)\n",
            "     ━━━━━━━━━━━━━━━━━━━━━━━━━━━━━━━━━━━━━━━━ 87.3/87.3 kB 11.3 MB/s eta 0:00:00\n",
            "Collecting pbr\n",
            "  Downloading pbr-6.0.0-py2.py3-none-any.whl (107 kB)\n",
            "     ━━━━━━━━━━━━━━━━━━━━━━━━━━━━━━━━━━━━━━━━ 107.5/107.5 kB 14.8 MB/s eta 0:00:00\n",
            "Collecting pillow\n",
            "  Downloading Pillow-9.5.0-cp37-cp37m-manylinux_2_28_x86_64.whl (3.4 MB)\n",
            "     ━━━━━━━━━━━━━━━━━━━━━━━━━━━━━━━━━━━━━━━━ 3.4/3.4 MB 93.0 MB/s eta 0:00:00\n",
            "Collecting protobuf==3.11.3\n",
            "  Downloading protobuf-3.11.3-cp37-cp37m-manylinux1_x86_64.whl (1.3 MB)\n",
            "     ━━━━━━━━━━━━━━━━━━━━━━━━━━━━━━━━━━━━━━━━ 1.3/1.3 MB 54.2 MB/s eta 0:00:00\n",
            "Collecting pycparser\n",
            "  Downloading pycparser-2.21-py2.py3-none-any.whl (118 kB)\n",
            "     ━━━━━━━━━━━━━━━━━━━━━━━━━━━━━━━━━━━━━━━━ 118.7/118.7 kB 14.9 MB/s eta 0:00:00\n",
            "Collecting pyct\n",
            "  Downloading pyct-0.5.0-py2.py3-none-any.whl (15 kB)\n",
            "Collecting requests\n",
            "  Downloading requests-2.31.0-py3-none-any.whl (62 kB)\n",
            "     ━━━━━━━━━━━━━━━━━━━━━━━━━━━━━━━━━━━━━━━━ 62.6/62.6 kB 8.9 MB/s eta 0:00:00\n",
            "Collecting runway-python\n",
            "  Downloading runway_python-0.6.1-py3-none-any.whl (24 kB)\n",
            "Collecting scipy\n",
            "  Downloading scipy-1.7.3-cp37-cp37m-manylinux_2_12_x86_64.manylinux2010_x86_64.whl (38.1 MB)\n",
            "     ━━━━━━━━━━━━━━━━━━━━━━━━━━━━━━━━━━━━━━━━ 38.1/38.1 MB 42.2 MB/s eta 0:00:00\n",
            "Collecting six\n",
            "  Downloading six-1.16.0-py2.py3-none-any.whl (11 kB)\n",
            "Collecting tensorboard\n",
            "  Downloading tensorboard-2.11.2-py3-none-any.whl (6.0 MB)\n",
            "     ━━━━━━━━━━━━━━━━━━━━━━━━━━━━━━━━━━━━━━━━ 6.0/6.0 MB 97.0 MB/s eta 0:00:00\n",
            "Collecting tensorflow==1.15.0\n",
            "  Downloading tensorflow-1.15.0-cp37-cp37m-manylinux2010_x86_64.whl (412.3 MB)\n",
            "     ━━━━━━━━━━━━━━━━━━━━━━━━━━━━━━━━━━━━━━━━ 412.3/412.3 MB 3.2 MB/s eta 0:00:00\n",
            "Collecting tensorflow-estimator==1.15.1\n",
            "  Downloading tensorflow_estimator-1.15.1-py2.py3-none-any.whl (503 kB)\n",
            "     ━━━━━━━━━━━━━━━━━━━━━━━━━━━━━━━━━━━━━━━━ 503.4/503.4 kB 43.1 MB/s eta 0:00:00\n",
            "Collecting tensorflow-gpu==1.15.0\n",
            "  Downloading tensorflow_gpu-1.15.0-cp37-cp37m-manylinux2010_x86_64.whl (411.5 MB)\n",
            "     ━━━━━━━━━━━━━━━━━━━━━━━━━━━━━━━━━━━━━━━━ 411.5/411.5 MB 3.1 MB/s eta 0:00:00\n",
            "Collecting termcolor\n",
            "  Downloading termcolor-2.3.0-py3-none-any.whl (6.9 kB)\n",
            "Collecting tqdm\n",
            "  Downloading tqdm-4.66.2-py3-none-any.whl (78 kB)\n",
            "     ━━━━━━━━━━━━━━━━━━━━━━━━━━━━━━━━━━━━━━━━ 78.3/78.3 kB 9.6 MB/s eta 0:00:00\n",
            "Collecting urllib3\n",
            "  Downloading urllib3-2.0.7-py3-none-any.whl (124 kB)\n",
            "     ━━━━━━━━━━━━━━━━━━━━━━━━━━━━━━━━━━━━━━━━ 124.2/124.2 kB 16.0 MB/s eta 0:00:00\n",
            "Collecting werkzeug\n",
            "  Downloading Werkzeug-2.2.3-py3-none-any.whl (233 kB)\n",
            "     ━━━━━━━━━━━━━━━━━━━━━━━━━━━━━━━━━━━━━━━━ 233.6/233.6 kB 26.5 MB/s eta 0:00:00\n",
            "Collecting wget\n",
            "  Downloading wget-3.2.zip (10 kB)\n",
            "  Preparing metadata (setup.py): started\n",
            "  Preparing metadata (setup.py): finished with status 'done'\n",
            "Collecting wrapt\n",
            "  Downloading wrapt-1.16.0-cp37-cp37m-manylinux_2_5_x86_64.manylinux1_x86_64.manylinux_2_17_x86_64.manylinux2014_x86_64.whl (77 kB)\n",
            "     ━━━━━━━━━━━━━━━━━━━━━━━━━━━━━━━━━━━━━━━━ 77.5/77.5 kB 10.3 MB/s eta 0:00:00\n",
            "Collecting image\n",
            "  Downloading image-1.5.33.tar.gz (15 kB)\n",
            "  Preparing metadata (setup.py): started\n",
            "  Preparing metadata (setup.py): finished with status 'done'\n",
            "Requirement already satisfied: setuptools in /usr/local/envs/fyp/lib/python3.7/site-packages (from protobuf==3.11.3->-r /content/onedrive/stylegan2-colab/stylegan2/condaenv.mj54du6w.requirements.txt (line 32)) (65.6.3)\n",
            "Collecting tensorboard\n",
            "  Downloading tensorboard-1.15.0-py3-none-any.whl (3.8 MB)\n",
            "     ━━━━━━━━━━━━━━━━━━━━━━━━━━━━━━━━━━━━━━━━ 3.8/3.8 MB 87.9 MB/s eta 0:00:00\n",
            "Collecting gast\n",
            "  Downloading gast-0.2.2.tar.gz (10 kB)\n",
            "  Preparing metadata (setup.py): started\n",
            "  Preparing metadata (setup.py): finished with status 'done'\n",
            "Requirement already satisfied: wheel>=0.26 in /usr/local/envs/fyp/lib/python3.7/site-packages (from tensorflow==1.15.0->-r /content/onedrive/stylegan2-colab/stylegan2/condaenv.mj54du6w.requirements.txt (line 40)) (0.38.4)\n",
            "Collecting importlib-metadata\n",
            "  Downloading importlib_metadata-6.7.0-py3-none-any.whl (22 kB)\n",
            "Collecting zope.event\n",
            "  Downloading zope.event-5.0-py3-none-any.whl (6.8 kB)\n",
            "Collecting zope.interface\n",
            "  Downloading zope.interface-6.3-cp37-cp37m-manylinux_2_5_x86_64.manylinux1_x86_64.manylinux_2_17_x86_64.manylinux2014_x86_64.whl (241 kB)\n",
            "     ━━━━━━━━━━━━━━━━━━━━━━━━━━━━━━━━━━━━━━━━ 241.9/241.9 kB 27.9 MB/s eta 0:00:00\n",
            "Collecting charset-normalizer<4,>=2\n",
            "  Downloading charset_normalizer-3.3.2-cp37-cp37m-manylinux_2_17_x86_64.manylinux2014_x86_64.whl (136 kB)\n",
            "     ━━━━━━━━━━━━━━━━━━━━━━━━━━━━━━━━━━━━━━━━ 136.8/136.8 kB 16.2 MB/s eta 0:00:00\n",
            "Collecting Flask-Compress>=1.3.1\n",
            "  Downloading Flask_Compress-1.15-py3-none-any.whl (8.6 kB)\n",
            "Collecting imageio>=2.5.0\n",
            "  Downloading imageio-2.31.2-py3-none-any.whl (313 kB)\n",
            "     ━━━━━━━━━━━━━━━━━━━━━━━━━━━━━━━━━━━━━━━━ 313.2/313.2 kB 33.0 MB/s eta 0:00:00\n",
            "Collecting Unidecode>=1.1.1\n",
            "  Downloading Unidecode-1.3.8-py3-none-any.whl (235 kB)\n",
            "     ━━━━━━━━━━━━━━━━━━━━━━━━━━━━━━━━━━━━━━━━ 235.5/235.5 kB 26.0 MB/s eta 0:00:00\n",
            "Collecting django\n",
            "  Downloading Django-3.2.25-py3-none-any.whl (7.9 MB)\n",
            "     ━━━━━━━━━━━━━━━━━━━━━━━━━━━━━━━━━━━━━━━━ 7.9/7.9 MB 92.6 MB/s eta 0:00:00\n",
            "Collecting zstandard\n",
            "  Downloading zstandard-0.21.0-cp37-cp37m-manylinux_2_17_x86_64.manylinux2014_x86_64.whl (2.7 MB)\n",
            "     ━━━━━━━━━━━━━━━━━━━━━━━━━━━━━━━━━━━━━━━━ 2.7/2.7 MB 82.7 MB/s eta 0:00:00\n",
            "Collecting brotli\n",
            "  Downloading Brotli-1.1.0-cp37-cp37m-manylinux_2_5_x86_64.manylinux1_x86_64.whl (2.8 MB)\n",
            "     ━━━━━━━━━━━━━━━━━━━━━━━━━━━━━━━━━━━━━━━━ 2.8/2.8 MB 90.7 MB/s eta 0:00:00\n",
            "Collecting zipp>=0.5\n",
            "  Downloading zipp-3.15.0-py3-none-any.whl (6.8 kB)\n",
            "Collecting typing-extensions>=3.6.4\n",
            "  Downloading typing_extensions-4.7.1-py3-none-any.whl (33 kB)\n",
            "Collecting cryptography>=1.9\n",
            "  Downloading cryptography-42.0.5-cp37-abi3-manylinux_2_28_x86_64.whl (4.6 MB)\n",
            "     ━━━━━━━━━━━━━━━━━━━━━━━━━━━━━━━━━━━━━━━━ 4.6/4.6 MB 96.0 MB/s eta 0:00:00\n",
            "Collecting urllib3-secure-extra\n",
            "  Downloading urllib3_secure_extra-0.1.0-py2.py3-none-any.whl (1.4 kB)\n",
            "Collecting pyopenssl>=17.1.0\n",
            "  Downloading pyOpenSSL-24.1.0-py3-none-any.whl (56 kB)\n",
            "     ━━━━━━━━━━━━━━━━━━━━━━━━━━━━━━━━━━━━━━━━ 56.9/56.9 kB 7.7 MB/s eta 0:00:00\n",
            "Collecting asgiref<4,>=3.3.2\n",
            "  Downloading asgiref-3.7.2-py3-none-any.whl (24 kB)\n",
            "Collecting sqlparse>=0.2.2\n",
            "  Downloading sqlparse-0.4.4-py3-none-any.whl (41 kB)\n",
            "     ━━━━━━━━━━━━━━━━━━━━━━━━━━━━━━━━━━━━━━━━ 41.2/41.2 kB 5.2 MB/s eta 0:00:00\n",
            "Collecting pytz\n",
            "  Downloading pytz-2024.1-py2.py3-none-any.whl (505 kB)\n",
            "     ━━━━━━━━━━━━━━━━━━━━━━━━━━━━━━━━━━━━━━━━ 505.5/505.5 kB 44.9 MB/s eta 0:00:00\n",
            "Building wheels for collected packages: gast, wget, image\n",
            "  Building wheel for gast (setup.py): started\n",
            "  Building wheel for gast (setup.py): finished with status 'done'\n",
            "  Created wheel for gast: filename=gast-0.2.2-py3-none-any.whl size=7537 sha256=0ee01c861d829523ff408d0956dfba955a4eaffec02352cc62d6ecb88efd298e\n",
            "  Stored in directory: /root/.cache/pip/wheels/cf/87/6f/3f34218ef184368cec9ee65bdfd65baf117811f0a0ce1263ff\n",
            "  Building wheel for wget (setup.py): started\n",
            "  Building wheel for wget (setup.py): finished with status 'done'\n",
            "  Created wheel for wget: filename=wget-3.2-py3-none-any.whl size=9656 sha256=5fb91a7e234040f0910595fcd2af27de9d9546710b3fedffafc91241cf459523\n",
            "  Stored in directory: /root/.cache/pip/wheels/e1/e8/db/ebe4dcd7d7d11208c1e4e4ef246cea4fcc8d463c93405a6555\n",
            "  Building wheel for image (setup.py): started\n",
            "  Building wheel for image (setup.py): finished with status 'done'\n",
            "  Created wheel for image: filename=image-1.5.33-py2.py3-none-any.whl size=19483 sha256=4878fdd94c08ff1f88e0680c06bb61c3eac79577ab94e9e63a175e087fe173a9\n",
            "  Stored in directory: /root/.cache/pip/wheels/23/29/74/b2ac5172832c36fb4cb4126f66765568099d9ddaf8a8613502\n",
            "Successfully built gast wget image\n",
            "Installing collected packages: wget, urllib3-secure-extra, tensorflow-estimator, pytz, brotli, zstandard, zope.interface, zope.event, zipp, wrapt, urllib3, Unidecode, typing-extensions, tqdm, termcolor, sqlparse, six, pycparser, pillow, pbr, param, numpy, mock, markupsafe, itsdangerous, idna, grpcio, greenlet, gast, colorcet, charset-normalizer, chardet, certifi, astor, absl-py, werkzeug, scipy, requests, pyct, protobuf, opt-einsum, opensimplex, keras-preprocessing, jinja2, importlib-metadata, imageio, h5py, google-pasta, gevent, cffi, asgiref, markdown, keras-applications, gevent-websocket, django, cryptography, click, tensorboard, pyopenssl, image, flask, tensorflow-gpu, tensorflow, flask-sockets, flask-cors, Flask-Compress, runway-python\n",
            "  Attempting uninstall: certifi\n",
            "    Found existing installation: certifi 2022.12.7\n",
            "    Uninstalling certifi-2022.12.7:\n",
            "      Successfully uninstalled certifi-2022.12.7\n",
            "Successfully installed Flask-Compress-1.15 Unidecode-1.3.8 absl-py-2.1.0 asgiref-3.7.2 astor-0.8.1 brotli-1.1.0 certifi-2024.2.2 cffi-1.15.1 chardet-5.2.0 charset-normalizer-3.3.2 click-8.1.7 colorcet-3.1.0 cryptography-42.0.5 django-3.2.25 flask-2.2.5 flask-cors-4.0.0 flask-sockets-0.2.1 gast-0.2.2 gevent-22.10.2 gevent-websocket-0.10.1 google-pasta-0.2.0 greenlet-3.0.3 grpcio-1.62.2 h5py-3.8.0 idna-3.7 image-1.5.33 imageio-2.31.2 importlib-metadata-6.7.0 itsdangerous-2.1.2 jinja2-3.1.3 keras-applications-1.0.8 keras-preprocessing-1.1.2 markdown-3.4.4 markupsafe-2.1.5 mock-5.1.0 numpy-1.21.6 opensimplex-0.4.2 opt-einsum-3.3.0 param-1.13.0 pbr-6.0.0 pillow-9.5.0 protobuf-3.11.3 pycparser-2.21 pyct-0.5.0 pyopenssl-24.1.0 pytz-2024.1 requests-2.31.0 runway-python-0.6.1 scipy-1.7.3 six-1.16.0 sqlparse-0.4.4 tensorboard-1.15.0 tensorflow-1.15.0 tensorflow-estimator-1.15.1 tensorflow-gpu-1.15.0 termcolor-2.3.0 tqdm-4.66.2 typing-extensions-4.7.1 urllib3-2.0.7 urllib3-secure-extra-0.1.0 werkzeug-2.2.3 wget-3.2 wrapt-1.16.0 zipp-3.15.0 zope.event-5.0 zope.interface-6.3 zstandard-0.21.0\n",
            "\n",
            "\b\b| \b\b/ \b\bdone\n",
            "#\n",
            "# To activate this environment, use\n",
            "#\n",
            "#     $ conda activate fyp\n",
            "#\n",
            "# To deactivate an active environment, use\n",
            "#\n",
            "#     $ conda deactivate\n",
            "\n"
          ]
        }
      ],
      "source": [
        "%env PYTHONPATH = # /env/python\n",
        "!wget https://repo.anaconda.com/miniconda/Miniconda3-py37_23.1.0-1-Linux-x86_64.sh #Miniconda3-py38_4.12.0-Linux-x86_64.sh\n",
        "!chmod +x Miniconda3-py37_23.1.0-1-Linux-x86_64.sh\n",
        "!./Miniconda3-py37_23.1.0-1-Linux-x86_64.sh -b -f -p /usr/local\n",
        "!conda update conda\n",
        "import sys\n",
        "sys.path.append('/usr/local/lib/python3.7/site-packages')\n",
        "%cd onedrive/stylegan2-colab/stylegan2\n",
        "!conda env create -f fyp.yml"
      ]
    },
    {
      "cell_type": "code",
      "execution_count": 4,
      "metadata": {
        "colab": {
          "base_uri": "https://localhost:8080/"
        },
        "id": "kxw_ZKBkY7DX",
        "outputId": "c9bef468-6fc2-463d-c533-afbd43ae6fd0"
      },
      "outputs": [
        {
          "output_type": "stream",
          "name": "stdout",
          "text": [
            "Collecting numpy==1.18.5\n",
            "  Downloading numpy-1.18.5-cp37-cp37m-manylinux1_x86_64.whl (20.1 MB)\n",
            "\u001b[2K     \u001b[90m━━━━━━━━━━━━━━━━━━━━━━━━━━━━━━━━━━━━━━━━\u001b[0m \u001b[32m20.1/20.1 MB\u001b[0m \u001b[31m60.3 MB/s\u001b[0m eta \u001b[36m0:00:00\u001b[0m\n",
            "\u001b[?25hInstalling collected packages: numpy\n",
            "  Attempting uninstall: numpy\n",
            "    Found existing installation: numpy 1.21.6\n",
            "    Uninstalling numpy-1.21.6:\n",
            "      Successfully uninstalled numpy-1.21.6\n",
            "\u001b[31mERROR: pip's dependency resolver does not currently take into account all the packages that are installed. This behaviour is the source of the following dependency conflicts.\n",
            "opensimplex 0.4.2 requires numpy>=1.20, but you have numpy 1.18.5 which is incompatible.\u001b[0m\u001b[31m\n",
            "\u001b[0mSuccessfully installed numpy-1.18.5\n",
            "\u001b[33mWARNING: Running pip as the 'root' user can result in broken permissions and conflicting behaviour with the system package manager. It is recommended to use a virtual environment instead: https://pip.pypa.io/warnings/venv\u001b[0m\u001b[33m\n",
            "\u001b[0mCollecting package metadata (current_repodata.json): - \b\b\\ \b\b| \b\b/ \b\b- \b\b\\ \b\b| \b\b/ \b\b- \b\b\\ \b\b| \b\bdone\n",
            "Solving environment: - \b\b\\ \b\bdone\n",
            "\n",
            "\n",
            "==> WARNING: A newer version of conda exists. <==\n",
            "  current version: 23.1.0\n",
            "  latest version: 24.4.0\n",
            "\n",
            "Please update conda by running\n",
            "\n",
            "    $ conda update -n base -c defaults conda\n",
            "\n",
            "Or to minimize the number of packages updated during conda update use\n",
            "\n",
            "     conda install conda=24.4.0\n",
            "\n",
            "\n",
            "\n",
            "## Package Plan ##\n",
            "\n",
            "  environment location: /usr/local/envs/fyp\n",
            "\n",
            "  added / updated specs:\n",
            "    - cudatoolkit=10.0\n",
            "\n",
            "\n",
            "The following packages will be downloaded:\n",
            "\n",
            "    package                    |            build\n",
            "    ---------------------------|-----------------\n",
            "    cudatoolkit-10.0.130       |                0       261.2 MB\n",
            "    ------------------------------------------------------------\n",
            "                                           Total:       261.2 MB\n",
            "\n",
            "The following NEW packages will be INSTALLED:\n",
            "\n",
            "  cudatoolkit        pkgs/main/linux-64::cudatoolkit-10.0.130-0 \n",
            "\n",
            "\n",
            "\n",
            "Downloading and Extracting Packages\n",
            "                                                                        \n",
            "Preparing transaction: / \b\bdone\n",
            "Verifying transaction: \\ \b\bdone\n",
            "Executing transaction: / \b\bdone\n",
            "Collecting package metadata (current_repodata.json): - \b\b\\ \b\b| \b\b/ \b\b- \b\b\\ \b\b| \b\b/ \b\b- \b\bdone\n",
            "Solving environment: | \b\b/ \b\bdone\n",
            "\n",
            "\n",
            "==> WARNING: A newer version of conda exists. <==\n",
            "  current version: 23.1.0\n",
            "  latest version: 24.4.0\n",
            "\n",
            "Please update conda by running\n",
            "\n",
            "    $ conda update -n base -c defaults conda\n",
            "\n",
            "Or to minimize the number of packages updated during conda update use\n",
            "\n",
            "     conda install conda=24.4.0\n",
            "\n",
            "\n",
            "\n",
            "## Package Plan ##\n",
            "\n",
            "  environment location: /usr/local/envs/fyp\n",
            "\n",
            "  added / updated specs:\n",
            "    - cudnn=7.6.5\n",
            "\n",
            "\n",
            "The following packages will be downloaded:\n",
            "\n",
            "    package                    |            build\n",
            "    ---------------------------|-----------------\n",
            "    cudnn-7.6.5                |       cuda10.0_0       165.0 MB\n",
            "    ------------------------------------------------------------\n",
            "                                           Total:       165.0 MB\n",
            "\n",
            "The following NEW packages will be INSTALLED:\n",
            "\n",
            "  cudnn              pkgs/main/linux-64::cudnn-7.6.5-cuda10.0_0 \n",
            "\n",
            "\n",
            "\n",
            "Downloading and Extracting Packages\n",
            "                                                                        \n",
            "Preparing transaction: \\ \b\bdone\n",
            "Verifying transaction: / \b\bdone\n",
            "Executing transaction: \\ \b\bdone\n"
          ]
        },
        {
          "output_type": "execute_result",
          "data": {
            "text/plain": []
          },
          "metadata": {},
          "execution_count": 4
        }
      ],
      "source": [
        "%%shell\n",
        "eval \"$(conda shell.bash hook)\"\n",
        "conda activate fyp\n",
        "pip install numpy==1.18.5\n",
        "conda install -y cudatoolkit=10.0\n",
        "conda install -y cudnn=7.6.5"
      ]
    },
    {
      "cell_type": "code",
      "execution_count": null,
      "metadata": {
        "id": "Fz2y9x2NrghM"
      },
      "outputs": [],
      "source": [
        "!conda env create -f fyp.yml"
      ]
    },
    {
      "cell_type": "code",
      "execution_count": null,
      "metadata": {
        "id": "pu5id0FlQ34g"
      },
      "outputs": [],
      "source": [
        "%%shell\n",
        "eval \"$(conda shell.bash hook)\"\n",
        "conda activate fyp\n",
        "conda env update --file fyp.yml\n",
        "# pip install tensorflow==1.15 tqdm pillow tensorflow-gpu==1.15"
      ]
    },
    {
      "cell_type": "code",
      "execution_count": null,
      "metadata": {
        "id": "H3EbXM12RmiJ"
      },
      "outputs": [],
      "source": [
        "%cd onedrive/stylegan\n",
        "!pip install -r modifiedReqs.txt"
      ]
    },
    {
      "cell_type": "markdown",
      "metadata": {
        "id": "WnSRsKkI2C5n"
      },
      "source": [
        "#2. Pulling the Code"
      ]
    },
    {
      "cell_type": "code",
      "execution_count": null,
      "metadata": {
        "id": "OTurBiig2GV2"
      },
      "outputs": [],
      "source": [
        "#SKIP this if you already have a stylegan2 folder in your google drive\n",
        "%cd /content/onedrive/\n",
        "!mkdir second-stylegan2-colab\n",
        "%cd second-stylegan2-colab/\n",
        "!git clone https://github.com/NVlabs/stylegan2\n",
        "%cd stylegan2\n",
        "!mkdir pkl\n",
        "# %cd pkl\n",
        "# !gdown --id 1JLqXE5bGZnlu2BkbLPD5_ZxoO3Nz-AvF #inception: https://drive.google.com/open?id=1JLqXE5bGZnlu2BkbLPD5_ZxoO3Nz-AvF\n",
        "# %cd ../\n",
        "!mkdir results\n",
        "!mkdir results/00001-pretrained\n",
        "# %cd results/00001-pretrained\n",
        "# !gdown --id 1UlDmJVLLnBD9SnLSMXeiZRO6g-OMQCA_\n",
        "# !mv stylegan2-ffhq-config-f.pkl network-snapshot-10000.pkl\n",
        "%cd ../../\n",
        "%mkdir datasets"
      ]
    },
    {
      "cell_type": "markdown",
      "metadata": {
        "id": "NN2K68CE27py"
      },
      "source": [
        "#4. Picking up from a previous session\n",
        "If you already have the StyleGAN2 repo installed in Drive skip the above cell and run the following. This will make sure you have the latest version in case I make updates."
      ]
    },
    {
      "cell_type": "code",
      "execution_count": null,
      "metadata": {
        "colab": {
          "base_uri": "https://localhost:8080/"
        },
        "id": "J8WgjhRFsFJ0",
        "outputId": "f81e1b46-b012-4f91-e4f9-d920a580b91d"
      },
      "outputs": [
        {
          "name": "stdout",
          "output_type": "stream",
          "text": [
            "/content/onedrive/stylegan2-colab/stylegan2\n",
            "Already up to date.\n"
          ]
        }
      ],
      "source": [
        "#USE this if you already have a stylegan2 folder in google drive\n",
        "%cd /content/onedrive/stylegan2-colab/stylegan2\n",
        "!git pull"
      ]
    },
    {
      "cell_type": "markdown",
      "metadata": {
        "id": "i1pIBZGzZxSA"
      },
      "source": [
        "# 5. Preprocessing The Dataset\n",
        "*   The image distribution bentween files is inequal.\n",
        "*   The images need to be cropped into sqaures.\n",
        "*   StyleGAN requires conversion standard jpg or png images into a new format (.tfrecords).\n",
        "\n",
        "\n",
        "\n"
      ]
    },
    {
      "cell_type": "code",
      "execution_count": null,
      "metadata": {
        "colab": {
          "base_uri": "https://localhost:8080/"
        },
        "id": "38QNIYyYzZb2",
        "outputId": "87118c28-6a49-47bb-e505-d4ca51f11636"
      },
      "outputs": [
        {
          "name": "stdout",
          "output_type": "stream",
          "text": [
            "/content/onedrive/stylegan2-colab/stylegan2\n",
            "/content/onedrive/second-stylegan2-colab/stylegan2\n"
          ]
        }
      ],
      "source": [
        "!pwd\n",
        "%cd /content/onedrive/stylegan2-colab/stylegan2"
      ]
    },
    {
      "cell_type": "code",
      "execution_count": null,
      "metadata": {
        "id": "DlCl3vfhwiL7"
      },
      "outputs": [],
      "source": [
        "!python preprocessDataset.py datasets/preprocessedDataset"
      ]
    },
    {
      "cell_type": "code",
      "execution_count": null,
      "metadata": {
        "id": "1QK5IXyf7KyM"
      },
      "outputs": [],
      "source": [
        "from google.colab import runtime\n",
        "runtime.unassign()\n"
      ]
    },
    {
      "cell_type": "code",
      "execution_count": null,
      "metadata": {
        "id": "vaW5gPdavZ0c"
      },
      "outputs": [],
      "source": [
        "%%shell\n",
        "eval \"$(conda shell.bash hook)\"\n",
        "conda activate fyp\n",
        "python3 dataset_tool.py create_from_images /content/onedrive/stylegan2-colab/stylegan2/datasets/preprocessedDataset/ /content/onedrive/stylegan2-colab/stylegan2/datasets/resizedDataset/"
      ]
    },
    {
      "cell_type": "code",
      "execution_count": null,
      "metadata": {
        "id": "MvFJjKayxcew"
      },
      "outputs": [],
      "source": [
        "# !python dataset_tool.py create_from_images /content/onedrive/stylegan2-colab/stylegan2/datasets/testProcessed/ /content/onedrive/stylegan2-colab/stylegan2/datasets/testResized/"
      ]
    },
    {
      "cell_type": "markdown",
      "metadata": {
        "id": "XKcFTjmawYJg"
      },
      "source": [
        "# 6. Training the Network"
      ]
    },
    {
      "cell_type": "code",
      "execution_count": null,
      "metadata": {
        "colab": {
          "base_uri": "https://localhost:8080/"
        },
        "id": "pjQCDhCIgE4P",
        "outputId": "65713cb6-7450-49eb-f7fd-63bfc1cd45cb"
      },
      "outputs": [
        {
          "name": "stdout",
          "output_type": "stream",
          "text": [
            "/content/onedrive/stylegan2-colab/stylegan2\n",
            "/content/onedrive/second-stylegan2-colab/stylegan2\n"
          ]
        }
      ],
      "source": [
        "!pwd\n",
        "%cd /content/onedrive/second-stylegan2-colab/stylegan2"
      ]
    },
    {
      "cell_type": "code",
      "execution_count": null,
      "metadata": {
        "id": "Xwsg1YR6c8cF"
      },
      "outputs": [],
      "source": [
        "# %%shell\n",
        "# eval \"$(conda shell.bash hook)\"\n",
        "# conda activate fyp\n",
        "# python3 eagertest.py"
      ]
    },
    {
      "cell_type": "code",
      "execution_count": null,
      "metadata": {
        "id": "Z_5kpmZh_aok"
      },
      "outputs": [],
      "source": [
        "# %%shell\n",
        "# eval \"$(conda shell.bash hook)\"\n",
        "# conda activate fyp\n",
        "# python3 dataset.py datasets/testProcessed"
      ]
    },
    {
      "cell_type": "code",
      "execution_count": null,
      "metadata": {
        "id": "YoGv5O9ftduu"
      },
      "outputs": [],
      "source": [
        "# %%shell\n",
        "# eval \"$(conda shell.bash hook)\"\n",
        "# conda activate fyp\n",
        "# pip install tensorflow==1.15 tensorflow-gpu==1.15"
      ]
    },
    {
      "cell_type": "code",
      "execution_count": null,
      "metadata": {
        "colab": {
          "base_uri": "https://localhost:8080/",
          "height": 1000
        },
        "id": "gvw-SKZVwp--",
        "outputId": "1c0ccf41-0914-4adb-fade-519af8bb0f7d"
      },
      "outputs": [
        {
          "name": "stdout",
          "output_type": "stream",
          "text": [
            "Local submit - run_dir: results/00023-stylegan2-locallyMadeDataset-1gpu-config-f\n",
            "dnnlib: Running training.training_loop.training_loop() on localhost...\n",
            "Streaming data using training.dataset.TFRecordDataset...\n",
            "Dataset shape = [3, 1024, 1024]\n",
            "Dynamic range = [0, 255]\n",
            "Label size    = 0\n",
            "Loading networks from \"/content/onedrive/second-stylegan2-colab/stylegan2/results/00016-stylegan2-locallyMadeDataset-1gpu-config-f/network-snapshot-011209.pkl\"...\n",
            "Setting up TensorFlow plugin \"fused_bias_act.cu\": Preprocessing... Loading... Done.\n",
            "Setting up TensorFlow plugin \"upfirdn_2d.cu\": Preprocessing... Loading... Done.\n",
            "\n",
            "ARGS\n",
            " {'func_name': 'training.loss.D_logistic_r1', 'gamma': 10} \n",
            "AAAAAAAAAAAAAAAAAAAAAAAAAAAAAAAAAAAAAA\n",
            "\n",
            "\n",
            "G                               Params    OutputShape          WeightShape     \n",
            "---                             ---       ---                  ---             \n",
            "latents_in                      -         (?, 512)             -               \n",
            "labels_in                       -         (?, 0)               -               \n",
            "lod                             -         ()                   -               \n",
            "dlatent_avg                     -         (512,)               -               \n",
            "G_mapping/latents_in            -         (?, 512)             -               \n",
            "G_mapping/labels_in             -         (?, 0)               -               \n",
            "G_mapping/Normalize             -         (?, 512)             -               \n",
            "G_mapping/Dense0                262656    (?, 512)             (512, 512)      \n",
            "G_mapping/Dense1                262656    (?, 512)             (512, 512)      \n",
            "G_mapping/Dense2                262656    (?, 512)             (512, 512)      \n",
            "G_mapping/Dense3                262656    (?, 512)             (512, 512)      \n",
            "G_mapping/Dense4                262656    (?, 512)             (512, 512)      \n",
            "G_mapping/Dense5                262656    (?, 512)             (512, 512)      \n",
            "G_mapping/Dense6                262656    (?, 512)             (512, 512)      \n",
            "G_mapping/Dense7                262656    (?, 512)             (512, 512)      \n",
            "G_mapping/Broadcast             -         (?, 18, 512)         -               \n",
            "G_mapping/dlatents_out          -         (?, 18, 512)         -               \n",
            "Truncation/Lerp                 -         (?, 18, 512)         -               \n",
            "G_synthesis/dlatents_in         -         (?, 18, 512)         -               \n",
            "G_synthesis/4x4/Const           8192      (?, 512, 4, 4)       (1, 512, 4, 4)  \n",
            "G_synthesis/4x4/Conv            2622465   (?, 512, 4, 4)       (3, 3, 512, 512)\n",
            "G_synthesis/4x4/ToRGB           264195    (?, 3, 4, 4)         (1, 1, 512, 3)  \n",
            "G_synthesis/8x8/Conv0_up        2622465   (?, 512, 8, 8)       (3, 3, 512, 512)\n",
            "G_synthesis/8x8/Conv1           2622465   (?, 512, 8, 8)       (3, 3, 512, 512)\n",
            "G_synthesis/8x8/Upsample        -         (?, 3, 8, 8)         -               \n",
            "G_synthesis/8x8/ToRGB           264195    (?, 3, 8, 8)         (1, 1, 512, 3)  \n",
            "G_synthesis/16x16/Conv0_up      2622465   (?, 512, 16, 16)     (3, 3, 512, 512)\n",
            "G_synthesis/16x16/Conv1         2622465   (?, 512, 16, 16)     (3, 3, 512, 512)\n",
            "G_synthesis/16x16/Upsample      -         (?, 3, 16, 16)       -               \n",
            "G_synthesis/16x16/ToRGB         264195    (?, 3, 16, 16)       (1, 1, 512, 3)  \n",
            "G_synthesis/32x32/Conv0_up      2622465   (?, 512, 32, 32)     (3, 3, 512, 512)\n",
            "G_synthesis/32x32/Conv1         2622465   (?, 512, 32, 32)     (3, 3, 512, 512)\n",
            "G_synthesis/32x32/Upsample      -         (?, 3, 32, 32)       -               \n",
            "G_synthesis/32x32/ToRGB         264195    (?, 3, 32, 32)       (1, 1, 512, 3)  \n",
            "G_synthesis/64x64/Conv0_up      2622465   (?, 512, 64, 64)     (3, 3, 512, 512)\n",
            "G_synthesis/64x64/Conv1         2622465   (?, 512, 64, 64)     (3, 3, 512, 512)\n",
            "G_synthesis/64x64/Upsample      -         (?, 3, 64, 64)       -               \n",
            "G_synthesis/64x64/ToRGB         264195    (?, 3, 64, 64)       (1, 1, 512, 3)  \n",
            "G_synthesis/128x128/Conv0_up    1442561   (?, 256, 128, 128)   (3, 3, 512, 256)\n",
            "G_synthesis/128x128/Conv1       721409    (?, 256, 128, 128)   (3, 3, 256, 256)\n",
            "G_synthesis/128x128/Upsample    -         (?, 3, 128, 128)     -               \n",
            "G_synthesis/128x128/ToRGB       132099    (?, 3, 128, 128)     (1, 1, 256, 3)  \n",
            "G_synthesis/256x256/Conv0_up    426369    (?, 128, 256, 256)   (3, 3, 256, 128)\n",
            "G_synthesis/256x256/Conv1       213249    (?, 128, 256, 256)   (3, 3, 128, 128)\n",
            "G_synthesis/256x256/Upsample    -         (?, 3, 256, 256)     -               \n",
            "G_synthesis/256x256/ToRGB       66051     (?, 3, 256, 256)     (1, 1, 128, 3)  \n",
            "G_synthesis/512x512/Conv0_up    139457    (?, 64, 512, 512)    (3, 3, 128, 64) \n",
            "G_synthesis/512x512/Conv1       69761     (?, 64, 512, 512)    (3, 3, 64, 64)  \n",
            "G_synthesis/512x512/Upsample    -         (?, 3, 512, 512)     -               \n",
            "G_synthesis/512x512/ToRGB       33027     (?, 3, 512, 512)     (1, 1, 64, 3)   \n",
            "G_synthesis/1024x1024/Conv0_up  51297     (?, 32, 1024, 1024)  (3, 3, 64, 32)  \n",
            "G_synthesis/1024x1024/Conv1     25665     (?, 32, 1024, 1024)  (3, 3, 32, 32)  \n",
            "G_synthesis/1024x1024/Upsample  -         (?, 3, 1024, 1024)   -               \n",
            "G_synthesis/1024x1024/ToRGB     16515     (?, 3, 1024, 1024)   (1, 1, 32, 3)   \n",
            "G_synthesis/images_out          -         (?, 3, 1024, 1024)   -               \n",
            "G_synthesis/noise0              -         (1, 1, 4, 4)         -               \n",
            "G_synthesis/noise1              -         (1, 1, 8, 8)         -               \n",
            "G_synthesis/noise2              -         (1, 1, 8, 8)         -               \n",
            "G_synthesis/noise3              -         (1, 1, 16, 16)       -               \n",
            "G_synthesis/noise4              -         (1, 1, 16, 16)       -               \n",
            "G_synthesis/noise5              -         (1, 1, 32, 32)       -               \n",
            "G_synthesis/noise6              -         (1, 1, 32, 32)       -               \n",
            "G_synthesis/noise7              -         (1, 1, 64, 64)       -               \n",
            "G_synthesis/noise8              -         (1, 1, 64, 64)       -               \n",
            "G_synthesis/noise9              -         (1, 1, 128, 128)     -               \n",
            "G_synthesis/noise10             -         (1, 1, 128, 128)     -               \n",
            "G_synthesis/noise11             -         (1, 1, 256, 256)     -               \n",
            "G_synthesis/noise12             -         (1, 1, 256, 256)     -               \n",
            "G_synthesis/noise13             -         (1, 1, 512, 512)     -               \n",
            "G_synthesis/noise14             -         (1, 1, 512, 512)     -               \n",
            "G_synthesis/noise15             -         (1, 1, 1024, 1024)   -               \n",
            "G_synthesis/noise16             -         (1, 1, 1024, 1024)   -               \n",
            "images_out                      -         (?, 3, 1024, 1024)   -               \n",
            "---                             ---       ---                  ---             \n",
            "Total                           30370060                                       \n",
            "\n",
            "\n",
            "D                     Params    OutputShape          WeightShape     \n",
            "---                   ---       ---                  ---             \n",
            "images_in             -         (?, 3, 1024, 1024)   -               \n",
            "labels_in             -         (?, 0)               -               \n",
            "1024x1024/FromRGB     128       (?, 32, 1024, 1024)  (1, 1, 3, 32)   \n",
            "1024x1024/Conv0       9248      (?, 32, 1024, 1024)  (3, 3, 32, 32)  \n",
            "1024x1024/Conv1_down  18496     (?, 64, 512, 512)    (3, 3, 32, 64)  \n",
            "1024x1024/Skip        2048      (?, 64, 512, 512)    (1, 1, 32, 64)  \n",
            "512x512/Conv0         36928     (?, 64, 512, 512)    (3, 3, 64, 64)  \n",
            "512x512/Conv1_down    73856     (?, 128, 256, 256)   (3, 3, 64, 128) \n",
            "512x512/Skip          8192      (?, 128, 256, 256)   (1, 1, 64, 128) \n",
            "256x256/Conv0         147584    (?, 128, 256, 256)   (3, 3, 128, 128)\n",
            "256x256/Conv1_down    295168    (?, 256, 128, 128)   (3, 3, 128, 256)\n",
            "256x256/Skip          32768     (?, 256, 128, 128)   (1, 1, 128, 256)\n",
            "128x128/Conv0         590080    (?, 256, 128, 128)   (3, 3, 256, 256)\n",
            "128x128/Conv1_down    1180160   (?, 512, 64, 64)     (3, 3, 256, 512)\n",
            "128x128/Skip          131072    (?, 512, 64, 64)     (1, 1, 256, 512)\n",
            "64x64/Conv0           2359808   (?, 512, 64, 64)     (3, 3, 512, 512)\n",
            "64x64/Conv1_down      2359808   (?, 512, 32, 32)     (3, 3, 512, 512)\n",
            "64x64/Skip            262144    (?, 512, 32, 32)     (1, 1, 512, 512)\n",
            "32x32/Conv0           2359808   (?, 512, 32, 32)     (3, 3, 512, 512)\n",
            "32x32/Conv1_down      2359808   (?, 512, 16, 16)     (3, 3, 512, 512)\n",
            "32x32/Skip            262144    (?, 512, 16, 16)     (1, 1, 512, 512)\n",
            "16x16/Conv0           2359808   (?, 512, 16, 16)     (3, 3, 512, 512)\n",
            "16x16/Conv1_down      2359808   (?, 512, 8, 8)       (3, 3, 512, 512)\n",
            "16x16/Skip            262144    (?, 512, 8, 8)       (1, 1, 512, 512)\n",
            "8x8/Conv0             2359808   (?, 512, 8, 8)       (3, 3, 512, 512)\n",
            "8x8/Conv1_down        2359808   (?, 512, 4, 4)       (3, 3, 512, 512)\n",
            "8x8/Skip              262144    (?, 512, 4, 4)       (1, 1, 512, 512)\n",
            "4x4/MinibatchStddev   -         (?, 513, 4, 4)       -               \n",
            "4x4/Conv              2364416   (?, 512, 4, 4)       (3, 3, 513, 512)\n",
            "4x4/Dense0            4194816   (?, 512)             (8192, 512)     \n",
            "Output                513       (?, 1)               (512, 1)        \n",
            "scores_out            -         (?, 1)               -               \n",
            "---                   ---       ---                  ---             \n",
            "Total                 29012513                                       \n",
            "\n",
            "Building TensorFlow graph...\n",
            "Tensor(\"GPU0/DataFetch/strided_slice_3:0\", shape=(?, 0), dtype=float32, device=/device:GPU:0) labels in training\n",
            "Tensor(\"GPU0/DataFetch/strided_slice_2:0\", shape=(?, 3, 1024, 1024), dtype=float32, device=/device:GPU:0)\n",
            "Initializing logs...\n",
            "Training for 25000 kimg...\n",
            "\n",
            "Traceback (most recent call last):\n",
            "\n",
            "\n",
            "During handling of the above exception, another exception occurred:\n",
            "\n",
            "\n"
          ]
        },
        {
          "ename": "CalledProcessError",
          "evalue": "Command 'eval \"$(conda shell.bash hook)\"\nconda activate fyp\n#python3 run_training.py -h\npython3 run_training.py --num-gpus=1 --data-dir=/content/onedrive/stylegan2-colab/stylegan2/datasets --config=config-f --dataset=locallyMadeDataset --mirror-augment=true --metrics=None --resume_pkl=/content/onedrive/second-stylegan2-colab/stylegan2/results/00016-stylegan2-locallyMadeDataset-1gpu-config-f/network-snapshot-011209.pkl --minibatch-size=64\n' returned non-zero exit status 120.",
          "output_type": "error",
          "traceback": [
            "\u001b[0;31m---------------------------------------------------------------------------\u001b[0m",
            "\u001b[0;31mCalledProcessError\u001b[0m                        Traceback (most recent call last)",
            "\u001b[0;32m<ipython-input-6-b137288e97d7>\u001b[0m in \u001b[0;36m<cell line: 1>\u001b[0;34m()\u001b[0m\n\u001b[0;32m----> 1\u001b[0;31m \u001b[0mget_ipython\u001b[0m\u001b[0;34m(\u001b[0m\u001b[0;34m)\u001b[0m\u001b[0;34m.\u001b[0m\u001b[0mrun_cell_magic\u001b[0m\u001b[0;34m(\u001b[0m\u001b[0;34m'shell'\u001b[0m\u001b[0;34m,\u001b[0m \u001b[0;34m''\u001b[0m\u001b[0;34m,\u001b[0m \u001b[0;34m'eval \"$(conda shell.bash hook)\"\\nconda activate fyp\\n#python3 run_training.py -h\\npython3 run_training.py --num-gpus=1 --data-dir=/content/onedrive/stylegan2-colab/stylegan2/datasets --config=config-f --dataset=locallyMadeDataset --mirror-augment=true --metrics=None --resume_pkl=/content/onedrive/second-stylegan2-colab/stylegan2/results/00016-stylegan2-locallyMadeDataset-1gpu-config-f/network-snapshot-011209.pkl --minibatch-size=64\\n'\u001b[0m\u001b[0;34m)\u001b[0m\u001b[0;34m\u001b[0m\u001b[0;34m\u001b[0m\u001b[0m\n\u001b[0m",
            "\u001b[0;32m/usr/local/lib/python3.10/dist-packages/google/colab/_shell.py\u001b[0m in \u001b[0;36mrun_cell_magic\u001b[0;34m(self, magic_name, line, cell)\u001b[0m\n\u001b[1;32m    332\u001b[0m     \u001b[0;32mif\u001b[0m \u001b[0mline\u001b[0m \u001b[0;32mand\u001b[0m \u001b[0;32mnot\u001b[0m \u001b[0mcell\u001b[0m\u001b[0;34m:\u001b[0m\u001b[0;34m\u001b[0m\u001b[0;34m\u001b[0m\u001b[0m\n\u001b[1;32m    333\u001b[0m       \u001b[0mcell\u001b[0m \u001b[0;34m=\u001b[0m \u001b[0;34m' '\u001b[0m\u001b[0;34m\u001b[0m\u001b[0;34m\u001b[0m\u001b[0m\n\u001b[0;32m--> 334\u001b[0;31m     \u001b[0;32mreturn\u001b[0m \u001b[0msuper\u001b[0m\u001b[0;34m(\u001b[0m\u001b[0;34m)\u001b[0m\u001b[0;34m.\u001b[0m\u001b[0mrun_cell_magic\u001b[0m\u001b[0;34m(\u001b[0m\u001b[0mmagic_name\u001b[0m\u001b[0;34m,\u001b[0m \u001b[0mline\u001b[0m\u001b[0;34m,\u001b[0m \u001b[0mcell\u001b[0m\u001b[0;34m)\u001b[0m\u001b[0;34m\u001b[0m\u001b[0;34m\u001b[0m\u001b[0m\n\u001b[0m\u001b[1;32m    335\u001b[0m \u001b[0;34m\u001b[0m\u001b[0m\n\u001b[1;32m    336\u001b[0m \u001b[0;34m\u001b[0m\u001b[0m\n",
            "\u001b[0;32m/usr/local/lib/python3.10/dist-packages/IPython/core/interactiveshell.py\u001b[0m in \u001b[0;36mrun_cell_magic\u001b[0;34m(self, magic_name, line, cell)\u001b[0m\n\u001b[1;32m   2471\u001b[0m             \u001b[0;32mwith\u001b[0m \u001b[0mself\u001b[0m\u001b[0;34m.\u001b[0m\u001b[0mbuiltin_trap\u001b[0m\u001b[0;34m:\u001b[0m\u001b[0;34m\u001b[0m\u001b[0;34m\u001b[0m\u001b[0m\n\u001b[1;32m   2472\u001b[0m                 \u001b[0margs\u001b[0m \u001b[0;34m=\u001b[0m \u001b[0;34m(\u001b[0m\u001b[0mmagic_arg_s\u001b[0m\u001b[0;34m,\u001b[0m \u001b[0mcell\u001b[0m\u001b[0;34m)\u001b[0m\u001b[0;34m\u001b[0m\u001b[0;34m\u001b[0m\u001b[0m\n\u001b[0;32m-> 2473\u001b[0;31m                 \u001b[0mresult\u001b[0m \u001b[0;34m=\u001b[0m \u001b[0mfn\u001b[0m\u001b[0;34m(\u001b[0m\u001b[0;34m*\u001b[0m\u001b[0margs\u001b[0m\u001b[0;34m,\u001b[0m \u001b[0;34m**\u001b[0m\u001b[0mkwargs\u001b[0m\u001b[0;34m)\u001b[0m\u001b[0;34m\u001b[0m\u001b[0;34m\u001b[0m\u001b[0m\n\u001b[0m\u001b[1;32m   2474\u001b[0m             \u001b[0;32mreturn\u001b[0m \u001b[0mresult\u001b[0m\u001b[0;34m\u001b[0m\u001b[0;34m\u001b[0m\u001b[0m\n\u001b[1;32m   2475\u001b[0m \u001b[0;34m\u001b[0m\u001b[0m\n",
            "\u001b[0;32m/usr/local/lib/python3.10/dist-packages/google/colab/_system_commands.py\u001b[0m in \u001b[0;36m_shell_cell_magic\u001b[0;34m(args, cmd)\u001b[0m\n\u001b[1;32m    110\u001b[0m   \u001b[0mresult\u001b[0m \u001b[0;34m=\u001b[0m \u001b[0m_run_command\u001b[0m\u001b[0;34m(\u001b[0m\u001b[0mcmd\u001b[0m\u001b[0;34m,\u001b[0m \u001b[0mclear_streamed_output\u001b[0m\u001b[0;34m=\u001b[0m\u001b[0;32mFalse\u001b[0m\u001b[0;34m)\u001b[0m\u001b[0;34m\u001b[0m\u001b[0;34m\u001b[0m\u001b[0m\n\u001b[1;32m    111\u001b[0m   \u001b[0;32mif\u001b[0m \u001b[0;32mnot\u001b[0m \u001b[0mparsed_args\u001b[0m\u001b[0;34m.\u001b[0m\u001b[0mignore_errors\u001b[0m\u001b[0;34m:\u001b[0m\u001b[0;34m\u001b[0m\u001b[0;34m\u001b[0m\u001b[0m\n\u001b[0;32m--> 112\u001b[0;31m     \u001b[0mresult\u001b[0m\u001b[0;34m.\u001b[0m\u001b[0mcheck_returncode\u001b[0m\u001b[0;34m(\u001b[0m\u001b[0;34m)\u001b[0m\u001b[0;34m\u001b[0m\u001b[0;34m\u001b[0m\u001b[0m\n\u001b[0m\u001b[1;32m    113\u001b[0m   \u001b[0;32mreturn\u001b[0m \u001b[0mresult\u001b[0m\u001b[0;34m\u001b[0m\u001b[0;34m\u001b[0m\u001b[0m\n\u001b[1;32m    114\u001b[0m \u001b[0;34m\u001b[0m\u001b[0m\n",
            "\u001b[0;32m/usr/local/lib/python3.10/dist-packages/google/colab/_system_commands.py\u001b[0m in \u001b[0;36mcheck_returncode\u001b[0;34m(self)\u001b[0m\n\u001b[1;32m    135\u001b[0m   \u001b[0;32mdef\u001b[0m \u001b[0mcheck_returncode\u001b[0m\u001b[0;34m(\u001b[0m\u001b[0mself\u001b[0m\u001b[0;34m)\u001b[0m\u001b[0;34m:\u001b[0m\u001b[0;34m\u001b[0m\u001b[0;34m\u001b[0m\u001b[0m\n\u001b[1;32m    136\u001b[0m     \u001b[0;32mif\u001b[0m \u001b[0mself\u001b[0m\u001b[0;34m.\u001b[0m\u001b[0mreturncode\u001b[0m\u001b[0;34m:\u001b[0m\u001b[0;34m\u001b[0m\u001b[0;34m\u001b[0m\u001b[0m\n\u001b[0;32m--> 137\u001b[0;31m       raise subprocess.CalledProcessError(\n\u001b[0m\u001b[1;32m    138\u001b[0m           \u001b[0mreturncode\u001b[0m\u001b[0;34m=\u001b[0m\u001b[0mself\u001b[0m\u001b[0;34m.\u001b[0m\u001b[0mreturncode\u001b[0m\u001b[0;34m,\u001b[0m \u001b[0mcmd\u001b[0m\u001b[0;34m=\u001b[0m\u001b[0mself\u001b[0m\u001b[0;34m.\u001b[0m\u001b[0margs\u001b[0m\u001b[0;34m,\u001b[0m \u001b[0moutput\u001b[0m\u001b[0;34m=\u001b[0m\u001b[0mself\u001b[0m\u001b[0;34m.\u001b[0m\u001b[0moutput\u001b[0m\u001b[0;34m\u001b[0m\u001b[0;34m\u001b[0m\u001b[0m\n\u001b[1;32m    139\u001b[0m       )\n",
            "\u001b[0;31mCalledProcessError\u001b[0m: Command 'eval \"$(conda shell.bash hook)\"\nconda activate fyp\n#python3 run_training.py -h\npython3 run_training.py --num-gpus=1 --data-dir=/content/onedrive/stylegan2-colab/stylegan2/datasets --config=config-f --dataset=locallyMadeDataset --mirror-augment=true --metrics=None --resume_pkl=/content/onedrive/second-stylegan2-colab/stylegan2/results/00016-stylegan2-locallyMadeDataset-1gpu-config-f/network-snapshot-011209.pkl --minibatch-size=64\n' returned non-zero exit status 120."
          ]
        }
      ],
      "source": [
        "%%shell\n",
        "eval \"$(conda shell.bash hook)\"\n",
        "conda activate fyp\n",
        "#python3 run_training.py -h\n",
        "python3 run_training.py --num-gpus=1 --data-dir=/content/onedrive/stylegan2-colab/stylegan2/datasets --config=config-f --dataset=locallyMadeDataset --mirror-augment=true --metrics=None --resume_pkl=/content/onedrive/second-stylegan2-colab/stylegan2/results/00016-stylegan2-locallyMadeDataset-1gpu-config-f/network-snapshot-011209.pkl --minibatch-size=64"
      ]
    },
    {
      "cell_type": "code",
      "execution_count": null,
      "metadata": {
        "id": "8QrOVqEHaipA"
      },
      "outputs": [],
      "source": [
        "# !python run_training.py --num-gpus=1 --data-dir=./datasets --config=config-f --dataset=testProcessed --mirror-augment=true --metrics=None"
      ]
    },
    {
      "cell_type": "code",
      "execution_count": null,
      "metadata": {
        "id": "LZtceGp7G0aU"
      },
      "outputs": [],
      "source": [
        "%%shell\n",
        "eval \"$(conda shell.bash hook)\"\n",
        "conda activate fyp\n",
        "python3 tfTest.py"
      ]
    },
    {
      "cell_type": "code",
      "execution_count": null,
      "metadata": {
        "id": "GcgryGYpyz-G"
      },
      "outputs": [],
      "source": [
        "%%shell\n",
        "eval \"$(conda shell.bash hook)\"\n",
        "conda activate fyp\n",
        "python3 gputest.py"
      ]
    },
    {
      "cell_type": "code",
      "execution_count": null,
      "metadata": {
        "id": "lvlX-oaryTxQ"
      },
      "outputs": [],
      "source": [
        "%%shell\n",
        "eval \"$(conda shell.bash hook)\"\n",
        "conda activate fyp\n",
        "pip list"
      ]
    },
    {
      "cell_type": "code",
      "execution_count": null,
      "metadata": {
        "id": "ZSGe5n-Xyz7l"
      },
      "outputs": [],
      "source": [
        "# %%shell\n",
        "# eval \"$(conda shell.bash hook)\"\n",
        "# conda activate fyp\n",
        "# pip install numpy==1.18.5"
      ]
    },
    {
      "cell_type": "code",
      "execution_count": null,
      "metadata": {
        "id": "oZvy97Jqy_2U"
      },
      "outputs": [],
      "source": []
    },
    {
      "cell_type": "markdown",
      "metadata": {
        "id": "UH5Y7Ie32_TD"
      },
      "source": [
        "#7. Metrics"
      ]
    },
    {
      "cell_type": "code",
      "execution_count": null,
      "metadata": {
        "colab": {
          "base_uri": "https://localhost:8080/"
        },
        "id": "jbRT58Ro3E9f",
        "outputId": "04403697-4661-457b-f0ff-655dab62594d"
      },
      "outputs": [
        {
          "name": "stdout",
          "output_type": "stream",
          "text": [
            "/content/onedrive/stylegan2-colab/stylegan2\n",
            "/content/onedrive/second-stylegan2-colab/stylegan2\n"
          ]
        }
      ],
      "source": [
        "!pwd\n",
        "%cd /content/onedrive/second-stylegan2-colab/stylegan2"
      ]
    },
    {
      "cell_type": "code",
      "execution_count": null,
      "metadata": {
        "colab": {
          "background_save": true,
          "base_uri": "https://localhost:8080/"
        },
        "id": "Vd20HyOr3fds",
        "outputId": "dcddbbe1-f200-4c0f-e101-1af018ad31b8"
      },
      "outputs": [
        {
          "name": "stdout",
          "output_type": "stream",
          "text": [
            "Local submit - run_dir: results/00012-run-metrics\n",
            "dnnlib: Running run_metrics.run() on localhost...\n",
            "Evaluating metrics \"fid50k\" for \"/content/onedrive/second-stylegan2-colab/stylegan2/results/00011-stylegan2-thirdProcessedDataset-1gpu-config-f/network-snapshot-010637.pkl\"...\n",
            "Setting up TensorFlow plugin \"fused_bias_act.cu\": Preprocessing... Loading... Done.\n",
            "Setting up TensorFlow plugin \"upfirdn_2d.cu\": Preprocessing... Loading... Done.\n"
          ]
        }
      ],
      "source": [
        "%%shell\n",
        "eval \"$(conda shell.bash hook)\"\n",
        "conda activate fyp\n",
        "python3 run_metrics.py --data-dir=/content/onedrive/stylegan2-colab/stylegan2/datasets --network=/content/onedrive/second-stylegan2-colab/stylegan2/results/00011-stylegan2-thirdProcessedDataset-1gpu-config-f/network-snapshot-010637.pkl \\\n",
        "  --metrics=fid50k --dataset=secondPreprocessedDataset --mirror-augment=true"
      ]
    },
    {
      "cell_type": "markdown",
      "metadata": {
        "id": "80B5PycKeHld"
      },
      "source": [
        "# 8. Testing The Network"
      ]
    },
    {
      "cell_type": "code",
      "execution_count": null,
      "metadata": {
        "colab": {
          "base_uri": "https://localhost:8080/"
        },
        "id": "_ta26LcXftK6",
        "outputId": "9beda420-95a6-4c35-c2fd-b886083e0d92"
      },
      "outputs": [
        {
          "output_type": "stream",
          "name": "stdout",
          "text": [
            "/content/onedrive/second-stylegan2-colab/stylegan2\n"
          ]
        }
      ],
      "source": [
        "%cd ../../second-stylegan2-colab/stylegan2/"
      ]
    },
    {
      "cell_type": "code",
      "execution_count": null,
      "metadata": {
        "id": "sUbz3QV0UyI6"
      },
      "outputs": [],
      "source": [
        "%%shell\n",
        "eval \"$(conda shell.bash hook)\"\n",
        "conda activate fyp\n",
        "python3 testModel.py"
      ]
    },
    {
      "cell_type": "markdown",
      "source": [
        "#9. Querying The Model"
      ],
      "metadata": {
        "id": "-wdb9Um_VVAn"
      }
    },
    {
      "cell_type": "code",
      "execution_count": 5,
      "metadata": {
        "colab": {
          "base_uri": "https://localhost:8080/"
        },
        "outputId": "8ec21f78-0ea8-4944-ab7f-c9bf2e31963e",
        "id": "qq53jHsVVcJX"
      },
      "outputs": [
        {
          "output_type": "stream",
          "name": "stdout",
          "text": [
            "/content/onedrive/second-stylegan2-colab/stylegan2\n"
          ]
        }
      ],
      "source": [
        "%cd ../../second-stylegan2-colab/stylegan2/"
      ]
    },
    {
      "cell_type": "code",
      "source": [
        "!ls"
      ],
      "metadata": {
        "id": "nUaqdOokba6L"
      },
      "execution_count": null,
      "outputs": []
    },
    {
      "cell_type": "code",
      "source": [
        "%%shell\n",
        "eval \"$(conda shell.bash hook)\"\n",
        "conda activate fyp\n",
        "python3 queryModel.py"
      ],
      "metadata": {
        "colab": {
          "base_uri": "https://localhost:8080/"
        },
        "id": "Vb8Vxu62be2_",
        "outputId": "2cc40a1c-bfa1-44dc-bc5e-a81e1ec26aa6"
      },
      "execution_count": 6,
      "outputs": [
        {
          "output_type": "stream",
          "name": "stdout",
          "text": [
            "Loading networks from \"results/00014-stylegan2-locallyMadeDataset-1gpu-config-f/network-snapshot-010866.pkl\"...\n",
            "Setting up TensorFlow plugin \"fused_bias_act.cu\": Preprocessing... Loading... Done.\n",
            "Setting up TensorFlow plugin \"upfirdn_2d.cu\": Preprocessing... Loading... Done.\n",
            "Content successfully written to /content/drive/MyDrive/fypOutput/result.txt\n",
            "Successfully deleted the file\n",
            "Successfully deleted the image\n"
          ]
        },
        {
          "output_type": "execute_result",
          "data": {
            "text/plain": []
          },
          "metadata": {},
          "execution_count": 6
        }
      ]
    }
  ],
  "metadata": {
    "accelerator": "GPU",
    "colab": {
      "collapsed_sections": [
        "cm_iMt30_xMI",
        "WnSRsKkI2C5n",
        "NN2K68CE27py",
        "i1pIBZGzZxSA",
        "XKcFTjmawYJg",
        "UH5Y7Ie32_TD"
      ],
      "gpuType": "T4",
      "machine_shape": "hm",
      "provenance": []
    },
    "kernelspec": {
      "display_name": "Python 3",
      "name": "python3"
    },
    "language_info": {
      "name": "python"
    }
  },
  "nbformat": 4,
  "nbformat_minor": 0
}